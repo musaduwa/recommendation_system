{
 "cells": [
  {
   "cell_type": "code",
   "execution_count": 3,
   "id": "491a6d8b",
   "metadata": {},
   "outputs": [],
   "source": [
    "# ! pip install pandas\n",
    "# ! pip install matplotlib\n",
    "# ! pip install wordcloud\n",
    "import pandas as pd\n",
    "import numpy as np\n",
    "import pickle\n",
    "import warnings\n",
    "import matplotlib.pyplot as plt\n",
    "warnings.filterwarnings('ignore') \n",
    "plt.style.use('seaborn-white') # Use seaborn-style plots\n",
    "plt.rcParams.update({'font.size': 15}) # Set larger default plot font size\n",
    "%matplotlib inline\n",
    "from wordcloud import WordCloud, STOPWORDS, ImageColorGenerator\n",
    "from sklearn import model_selection\n",
    "\n"
   ]
  },
  {
   "cell_type": "code",
   "execution_count": null,
   "id": "37999354",
   "metadata": {},
   "outputs": [],
   "source": []
  },
  {
   "cell_type": "markdown",
   "id": "f820b770",
   "metadata": {},
   "source": [
    "# importing data"
   ]
  },
  {
   "cell_type": "code",
   "execution_count": 4,
   "id": "b15b815c",
   "metadata": {},
   "outputs": [],
   "source": [
    "# main books dataset\n",
    "main_books = pd.read_csv('Bx-Books.csv', sep=';')"
   ]
  },
  {
   "cell_type": "code",
   "execution_count": 5,
   "id": "13af192d",
   "metadata": {},
   "outputs": [
    {
     "data": {
      "text/html": [
       "<div>\n",
       "<style scoped>\n",
       "    .dataframe tbody tr th:only-of-type {\n",
       "        vertical-align: middle;\n",
       "    }\n",
       "\n",
       "    .dataframe tbody tr th {\n",
       "        vertical-align: top;\n",
       "    }\n",
       "\n",
       "    .dataframe thead th {\n",
       "        text-align: right;\n",
       "    }\n",
       "</style>\n",
       "<table border=\"1\" class=\"dataframe\">\n",
       "  <thead>\n",
       "    <tr style=\"text-align: right;\">\n",
       "      <th></th>\n",
       "      <th>ISBN</th>\n",
       "      <th>Book-Title</th>\n",
       "      <th>Book-Author</th>\n",
       "      <th>Year-Of-Publication</th>\n",
       "      <th>Publisher</th>\n",
       "      <th>Image-URL-S</th>\n",
       "      <th>Image-URL-M</th>\n",
       "      <th>Image-URL-L</th>\n",
       "    </tr>\n",
       "  </thead>\n",
       "  <tbody>\n",
       "    <tr>\n",
       "      <th>0</th>\n",
       "      <td>0195153448</td>\n",
       "      <td>Classical Mythology</td>\n",
       "      <td>Mark P. O. Morford</td>\n",
       "      <td>2002</td>\n",
       "      <td>Oxford University Press</td>\n",
       "      <td>http://images.amazon.com/images/P/0195153448.0...</td>\n",
       "      <td>http://images.amazon.com/images/P/0195153448.0...</td>\n",
       "      <td>http://images.amazon.com/images/P/0195153448.0...</td>\n",
       "    </tr>\n",
       "    <tr>\n",
       "      <th>1</th>\n",
       "      <td>0002005018</td>\n",
       "      <td>Clara Callan</td>\n",
       "      <td>Richard Bruce Wright</td>\n",
       "      <td>2001</td>\n",
       "      <td>HarperFlamingo Canada</td>\n",
       "      <td>http://images.amazon.com/images/P/0002005018.0...</td>\n",
       "      <td>http://images.amazon.com/images/P/0002005018.0...</td>\n",
       "      <td>http://images.amazon.com/images/P/0002005018.0...</td>\n",
       "    </tr>\n",
       "    <tr>\n",
       "      <th>2</th>\n",
       "      <td>0060973129</td>\n",
       "      <td>Decision in Normandy</td>\n",
       "      <td>Carlo D'Este</td>\n",
       "      <td>1991</td>\n",
       "      <td>HarperPerennial</td>\n",
       "      <td>http://images.amazon.com/images/P/0060973129.0...</td>\n",
       "      <td>http://images.amazon.com/images/P/0060973129.0...</td>\n",
       "      <td>http://images.amazon.com/images/P/0060973129.0...</td>\n",
       "    </tr>\n",
       "    <tr>\n",
       "      <th>3</th>\n",
       "      <td>0374157065</td>\n",
       "      <td>Flu: The Story of the Great Influenza Pandemic...</td>\n",
       "      <td>Gina Bari Kolata</td>\n",
       "      <td>1999</td>\n",
       "      <td>Farrar Straus Giroux</td>\n",
       "      <td>http://images.amazon.com/images/P/0374157065.0...</td>\n",
       "      <td>http://images.amazon.com/images/P/0374157065.0...</td>\n",
       "      <td>http://images.amazon.com/images/P/0374157065.0...</td>\n",
       "    </tr>\n",
       "    <tr>\n",
       "      <th>4</th>\n",
       "      <td>0393045218</td>\n",
       "      <td>The Mummies of Urumchi</td>\n",
       "      <td>E. J. W. Barber</td>\n",
       "      <td>1999</td>\n",
       "      <td>W. W. Norton &amp;amp Company</td>\n",
       "      <td>http://images.amazon.com/images/P/0393045218.0...</td>\n",
       "      <td>http://images.amazon.com/images/P/0393045218.0...</td>\n",
       "      <td>http://images.amazon.com/images/P/0393045218.0...</td>\n",
       "    </tr>\n",
       "  </tbody>\n",
       "</table>\n",
       "</div>"
      ],
      "text/plain": [
       "         ISBN                                         Book-Title  \\\n",
       "0  0195153448                                Classical Mythology   \n",
       "1  0002005018                                       Clara Callan   \n",
       "2  0060973129                               Decision in Normandy   \n",
       "3  0374157065  Flu: The Story of the Great Influenza Pandemic...   \n",
       "4  0393045218                             The Mummies of Urumchi   \n",
       "\n",
       "            Book-Author Year-Of-Publication                  Publisher  \\\n",
       "0    Mark P. O. Morford                2002    Oxford University Press   \n",
       "1  Richard Bruce Wright                2001      HarperFlamingo Canada   \n",
       "2          Carlo D'Este                1991            HarperPerennial   \n",
       "3      Gina Bari Kolata                1999       Farrar Straus Giroux   \n",
       "4       E. J. W. Barber                1999  W. W. Norton &amp Company   \n",
       "\n",
       "                                         Image-URL-S  \\\n",
       "0  http://images.amazon.com/images/P/0195153448.0...   \n",
       "1  http://images.amazon.com/images/P/0002005018.0...   \n",
       "2  http://images.amazon.com/images/P/0060973129.0...   \n",
       "3  http://images.amazon.com/images/P/0374157065.0...   \n",
       "4  http://images.amazon.com/images/P/0393045218.0...   \n",
       "\n",
       "                                         Image-URL-M  \\\n",
       "0  http://images.amazon.com/images/P/0195153448.0...   \n",
       "1  http://images.amazon.com/images/P/0002005018.0...   \n",
       "2  http://images.amazon.com/images/P/0060973129.0...   \n",
       "3  http://images.amazon.com/images/P/0374157065.0...   \n",
       "4  http://images.amazon.com/images/P/0393045218.0...   \n",
       "\n",
       "                                         Image-URL-L  \n",
       "0  http://images.amazon.com/images/P/0195153448.0...  \n",
       "1  http://images.amazon.com/images/P/0002005018.0...  \n",
       "2  http://images.amazon.com/images/P/0060973129.0...  \n",
       "3  http://images.amazon.com/images/P/0374157065.0...  \n",
       "4  http://images.amazon.com/images/P/0393045218.0...  "
      ]
     },
     "execution_count": 5,
     "metadata": {},
     "output_type": "execute_result"
    }
   ],
   "source": [
    "main_books.head()\n"
   ]
  },
  {
   "cell_type": "code",
   "execution_count": 6,
   "id": "721a02b1",
   "metadata": {},
   "outputs": [
    {
     "data": {
      "text/plain": [
       "ISBN                   object\n",
       "Book-Title             object\n",
       "Book-Author            object\n",
       "Year-Of-Publication    object\n",
       "Publisher              object\n",
       "Image-URL-S            object\n",
       "Image-URL-M            object\n",
       "Image-URL-L            object\n",
       "dtype: object"
      ]
     },
     "execution_count": 6,
     "metadata": {},
     "output_type": "execute_result"
    }
   ],
   "source": [
    "main_books.dtypes #datatype of various columns"
   ]
  },
  {
   "cell_type": "code",
   "execution_count": 7,
   "id": "04b38474",
   "metadata": {},
   "outputs": [],
   "source": [
    "# main users dataset\n",
    "users = pd.read_csv('Bx-Users.csv', sep=';', encoding='latin-1')"
   ]
  },
  {
   "cell_type": "code",
   "execution_count": 8,
   "id": "5e536784",
   "metadata": {},
   "outputs": [
    {
     "data": {
      "text/html": [
       "<div>\n",
       "<style scoped>\n",
       "    .dataframe tbody tr th:only-of-type {\n",
       "        vertical-align: middle;\n",
       "    }\n",
       "\n",
       "    .dataframe tbody tr th {\n",
       "        vertical-align: top;\n",
       "    }\n",
       "\n",
       "    .dataframe thead th {\n",
       "        text-align: right;\n",
       "    }\n",
       "</style>\n",
       "<table border=\"1\" class=\"dataframe\">\n",
       "  <thead>\n",
       "    <tr style=\"text-align: right;\">\n",
       "      <th></th>\n",
       "      <th>User-ID</th>\n",
       "      <th>Location</th>\n",
       "      <th>Age</th>\n",
       "    </tr>\n",
       "  </thead>\n",
       "  <tbody>\n",
       "    <tr>\n",
       "      <th>0</th>\n",
       "      <td>1</td>\n",
       "      <td>nyc, new york, usa</td>\n",
       "      <td>NaN</td>\n",
       "    </tr>\n",
       "    <tr>\n",
       "      <th>1</th>\n",
       "      <td>2</td>\n",
       "      <td>stockton, california, usa</td>\n",
       "      <td>18.0</td>\n",
       "    </tr>\n",
       "    <tr>\n",
       "      <th>2</th>\n",
       "      <td>3</td>\n",
       "      <td>moscow, yukon territory, russia</td>\n",
       "      <td>NaN</td>\n",
       "    </tr>\n",
       "    <tr>\n",
       "      <th>3</th>\n",
       "      <td>4</td>\n",
       "      <td>porto, v.n.gaia, portugal</td>\n",
       "      <td>17.0</td>\n",
       "    </tr>\n",
       "    <tr>\n",
       "      <th>4</th>\n",
       "      <td>5</td>\n",
       "      <td>farnborough, hants, united kingdom</td>\n",
       "      <td>NaN</td>\n",
       "    </tr>\n",
       "  </tbody>\n",
       "</table>\n",
       "</div>"
      ],
      "text/plain": [
       "   User-ID                            Location   Age\n",
       "0        1                  nyc, new york, usa   NaN\n",
       "1        2           stockton, california, usa  18.0\n",
       "2        3     moscow, yukon territory, russia   NaN\n",
       "3        4           porto, v.n.gaia, portugal  17.0\n",
       "4        5  farnborough, hants, united kingdom   NaN"
      ]
     },
     "execution_count": 8,
     "metadata": {},
     "output_type": "execute_result"
    }
   ],
   "source": [
    "users.head()"
   ]
  },
  {
   "cell_type": "code",
   "execution_count": 9,
   "id": "b199b85e",
   "metadata": {},
   "outputs": [
    {
     "data": {
      "text/plain": [
       "User-ID       int64\n",
       "Location     object\n",
       "Age         float64\n",
       "dtype: object"
      ]
     },
     "execution_count": 9,
     "metadata": {},
     "output_type": "execute_result"
    }
   ],
   "source": [
    "users.dtypes # datatypes of the columns"
   ]
  },
  {
   "cell_type": "code",
   "execution_count": 10,
   "id": "64048ee2",
   "metadata": {},
   "outputs": [],
   "source": [
    "# main ratings dataset\n",
    "ratings = pd.read_csv('BX-Book-Ratings.csv', sep = ';')"
   ]
  },
  {
   "cell_type": "code",
   "execution_count": 11,
   "id": "eadf194a",
   "metadata": {},
   "outputs": [
    {
     "data": {
      "text/html": [
       "<div>\n",
       "<style scoped>\n",
       "    .dataframe tbody tr th:only-of-type {\n",
       "        vertical-align: middle;\n",
       "    }\n",
       "\n",
       "    .dataframe tbody tr th {\n",
       "        vertical-align: top;\n",
       "    }\n",
       "\n",
       "    .dataframe thead th {\n",
       "        text-align: right;\n",
       "    }\n",
       "</style>\n",
       "<table border=\"1\" class=\"dataframe\">\n",
       "  <thead>\n",
       "    <tr style=\"text-align: right;\">\n",
       "      <th></th>\n",
       "      <th>User-ID</th>\n",
       "      <th>ISBN</th>\n",
       "      <th>Book-Rating</th>\n",
       "    </tr>\n",
       "  </thead>\n",
       "  <tbody>\n",
       "    <tr>\n",
       "      <th>0</th>\n",
       "      <td>276725</td>\n",
       "      <td>034545104X</td>\n",
       "      <td>0</td>\n",
       "    </tr>\n",
       "    <tr>\n",
       "      <th>1</th>\n",
       "      <td>276726</td>\n",
       "      <td>0155061224</td>\n",
       "      <td>5</td>\n",
       "    </tr>\n",
       "    <tr>\n",
       "      <th>2</th>\n",
       "      <td>276727</td>\n",
       "      <td>0446520802</td>\n",
       "      <td>0</td>\n",
       "    </tr>\n",
       "    <tr>\n",
       "      <th>3</th>\n",
       "      <td>276729</td>\n",
       "      <td>052165615X</td>\n",
       "      <td>3</td>\n",
       "    </tr>\n",
       "    <tr>\n",
       "      <th>4</th>\n",
       "      <td>276729</td>\n",
       "      <td>0521795028</td>\n",
       "      <td>6</td>\n",
       "    </tr>\n",
       "  </tbody>\n",
       "</table>\n",
       "</div>"
      ],
      "text/plain": [
       "   User-ID        ISBN  Book-Rating\n",
       "0   276725  034545104X            0\n",
       "1   276726  0155061224            5\n",
       "2   276727  0446520802            0\n",
       "3   276729  052165615X            3\n",
       "4   276729  0521795028            6"
      ]
     },
     "execution_count": 11,
     "metadata": {},
     "output_type": "execute_result"
    }
   ],
   "source": [
    "ratings.head()"
   ]
  },
  {
   "cell_type": "code",
   "execution_count": 12,
   "id": "a63c62b6",
   "metadata": {},
   "outputs": [
    {
     "data": {
      "text/plain": [
       "User-ID         int64\n",
       "ISBN           object\n",
       "Book-Rating     int64\n",
       "dtype: object"
      ]
     },
     "execution_count": 12,
     "metadata": {},
     "output_type": "execute_result"
    }
   ],
   "source": [
    "ratings.dtypes # the columns datatypes in the ratings table"
   ]
  },
  {
   "cell_type": "code",
   "execution_count": 13,
   "id": "468fc6ab",
   "metadata": {},
   "outputs": [
    {
     "name": "stdout",
     "output_type": "stream",
     "text": [
      "Number of Users: 278858\n",
      "Number of Books: 271379\n",
      "Total Ratings: 1149780\n"
     ]
    }
   ],
   "source": [
    "# numbers of records across the the various tables \n",
    "print(f'Number of Users: {len(users)}\\nNumber of Books: {len(main_books)}\\nTotal Ratings: {len(ratings)}')"
   ]
  },
  {
   "cell_type": "markdown",
   "id": "fcfff58b",
   "metadata": {},
   "source": [
    "# Normalization and data cleaning"
   ]
  },
  {
   "cell_type": "code",
   "execution_count": 14,
   "id": "1bf335f4",
   "metadata": {},
   "outputs": [],
   "source": [
    "# normalization of special characters\n",
    "main_books.columns = main_books.columns.str.strip().str.lower().str.replace('-', '_')\n",
    "users.columns = users.columns.str.strip().str.lower().str.replace('-', '_')\n",
    "ratings.columns = ratings.columns.str.strip().str.lower().str.replace('-', '_')\n",
    "main_books.publisher = main_books.publisher.str.replace('&amp', '&', regex=False)\n",
    "\n"
   ]
  },
  {
   "cell_type": "code",
   "execution_count": 15,
   "id": "74de40d8",
   "metadata": {},
   "outputs": [
    {
     "data": {
      "text/html": [
       "<div>\n",
       "<style scoped>\n",
       "    .dataframe tbody tr th:only-of-type {\n",
       "        vertical-align: middle;\n",
       "    }\n",
       "\n",
       "    .dataframe tbody tr th {\n",
       "        vertical-align: top;\n",
       "    }\n",
       "\n",
       "    .dataframe thead th {\n",
       "        text-align: right;\n",
       "    }\n",
       "</style>\n",
       "<table border=\"1\" class=\"dataframe\">\n",
       "  <thead>\n",
       "    <tr style=\"text-align: right;\">\n",
       "      <th></th>\n",
       "      <th>isbn</th>\n",
       "      <th>book_title</th>\n",
       "      <th>book_author</th>\n",
       "      <th>year_of_publication</th>\n",
       "      <th>publisher</th>\n",
       "      <th>image_url_s</th>\n",
       "      <th>image_url_m</th>\n",
       "      <th>image_url_l</th>\n",
       "    </tr>\n",
       "  </thead>\n",
       "  <tbody>\n",
       "    <tr>\n",
       "      <th>0</th>\n",
       "      <td>0195153448</td>\n",
       "      <td>Classical Mythology</td>\n",
       "      <td>Mark P. O. Morford</td>\n",
       "      <td>2002</td>\n",
       "      <td>Oxford University Press</td>\n",
       "      <td>http://images.amazon.com/images/P/0195153448.0...</td>\n",
       "      <td>http://images.amazon.com/images/P/0195153448.0...</td>\n",
       "      <td>http://images.amazon.com/images/P/0195153448.0...</td>\n",
       "    </tr>\n",
       "    <tr>\n",
       "      <th>1</th>\n",
       "      <td>0002005018</td>\n",
       "      <td>Clara Callan</td>\n",
       "      <td>Richard Bruce Wright</td>\n",
       "      <td>2001</td>\n",
       "      <td>HarperFlamingo Canada</td>\n",
       "      <td>http://images.amazon.com/images/P/0002005018.0...</td>\n",
       "      <td>http://images.amazon.com/images/P/0002005018.0...</td>\n",
       "      <td>http://images.amazon.com/images/P/0002005018.0...</td>\n",
       "    </tr>\n",
       "    <tr>\n",
       "      <th>2</th>\n",
       "      <td>0060973129</td>\n",
       "      <td>Decision in Normandy</td>\n",
       "      <td>Carlo D'Este</td>\n",
       "      <td>1991</td>\n",
       "      <td>HarperPerennial</td>\n",
       "      <td>http://images.amazon.com/images/P/0060973129.0...</td>\n",
       "      <td>http://images.amazon.com/images/P/0060973129.0...</td>\n",
       "      <td>http://images.amazon.com/images/P/0060973129.0...</td>\n",
       "    </tr>\n",
       "    <tr>\n",
       "      <th>3</th>\n",
       "      <td>0374157065</td>\n",
       "      <td>Flu: The Story of the Great Influenza Pandemic...</td>\n",
       "      <td>Gina Bari Kolata</td>\n",
       "      <td>1999</td>\n",
       "      <td>Farrar Straus Giroux</td>\n",
       "      <td>http://images.amazon.com/images/P/0374157065.0...</td>\n",
       "      <td>http://images.amazon.com/images/P/0374157065.0...</td>\n",
       "      <td>http://images.amazon.com/images/P/0374157065.0...</td>\n",
       "    </tr>\n",
       "    <tr>\n",
       "      <th>4</th>\n",
       "      <td>0393045218</td>\n",
       "      <td>The Mummies of Urumchi</td>\n",
       "      <td>E. J. W. Barber</td>\n",
       "      <td>1999</td>\n",
       "      <td>W. W. Norton &amp; Company</td>\n",
       "      <td>http://images.amazon.com/images/P/0393045218.0...</td>\n",
       "      <td>http://images.amazon.com/images/P/0393045218.0...</td>\n",
       "      <td>http://images.amazon.com/images/P/0393045218.0...</td>\n",
       "    </tr>\n",
       "  </tbody>\n",
       "</table>\n",
       "</div>"
      ],
      "text/plain": [
       "         isbn                                         book_title  \\\n",
       "0  0195153448                                Classical Mythology   \n",
       "1  0002005018                                       Clara Callan   \n",
       "2  0060973129                               Decision in Normandy   \n",
       "3  0374157065  Flu: The Story of the Great Influenza Pandemic...   \n",
       "4  0393045218                             The Mummies of Urumchi   \n",
       "\n",
       "            book_author year_of_publication                publisher  \\\n",
       "0    Mark P. O. Morford                2002  Oxford University Press   \n",
       "1  Richard Bruce Wright                2001    HarperFlamingo Canada   \n",
       "2          Carlo D'Este                1991          HarperPerennial   \n",
       "3      Gina Bari Kolata                1999     Farrar Straus Giroux   \n",
       "4       E. J. W. Barber                1999   W. W. Norton & Company   \n",
       "\n",
       "                                         image_url_s  \\\n",
       "0  http://images.amazon.com/images/P/0195153448.0...   \n",
       "1  http://images.amazon.com/images/P/0002005018.0...   \n",
       "2  http://images.amazon.com/images/P/0060973129.0...   \n",
       "3  http://images.amazon.com/images/P/0374157065.0...   \n",
       "4  http://images.amazon.com/images/P/0393045218.0...   \n",
       "\n",
       "                                         image_url_m  \\\n",
       "0  http://images.amazon.com/images/P/0195153448.0...   \n",
       "1  http://images.amazon.com/images/P/0002005018.0...   \n",
       "2  http://images.amazon.com/images/P/0060973129.0...   \n",
       "3  http://images.amazon.com/images/P/0374157065.0...   \n",
       "4  http://images.amazon.com/images/P/0393045218.0...   \n",
       "\n",
       "                                         image_url_l  \n",
       "0  http://images.amazon.com/images/P/0195153448.0...  \n",
       "1  http://images.amazon.com/images/P/0002005018.0...  \n",
       "2  http://images.amazon.com/images/P/0060973129.0...  \n",
       "3  http://images.amazon.com/images/P/0374157065.0...  \n",
       "4  http://images.amazon.com/images/P/0393045218.0...  "
      ]
     },
     "execution_count": 15,
     "metadata": {},
     "output_type": "execute_result"
    }
   ],
   "source": [
    "main_books.head()"
   ]
  },
  {
   "cell_type": "markdown",
   "id": "3a0b1658",
   "metadata": {},
   "source": [
    "# Some Data visualisations\n"
   ]
  },
  {
   "cell_type": "code",
   "execution_count": 16,
   "id": "6a99bf0d",
   "metadata": {},
   "outputs": [],
   "source": [
    "locations = pd.read_csv('Bx-Users.csv', sep=';', encoding='latin-1').Location.str.cat()\n",
    "\n"
   ]
  },
  {
   "cell_type": "code",
   "execution_count": 17,
   "id": "d5eadf6c",
   "metadata": {},
   "outputs": [
    {
     "data": {
      "text/plain": [
       "(-0.5, 399.5, 199.5, -0.5)"
      ]
     },
     "execution_count": 17,
     "metadata": {},
     "output_type": "execute_result"
    },
    {
     "data": {
      "image/png": "[encoded data removed]",
      "text/plain": [
       "<Figure size 640x480 with 1 Axes>"
      ]
     },
     "metadata": {},
     "output_type": "display_data"
    }
   ],
   "source": [
    "# viewing the cities with most percentage of the users\n",
    "wordcloud = WordCloud().generate(locations)\n",
    "\n",
    "plt.imshow(wordcloud, interpolation='bilinear')\n",
    "plt.axis(\"off\")"
   ]
  },
  {
   "cell_type": "code",
   "execution_count": 18,
   "id": "f53622e9",
   "metadata": {},
   "outputs": [],
   "source": [
    "# the year with the most publications\n",
    "main_books.year_of_publication = pd.to_numeric(main_books.year_of_publication, errors='coerce')"
   ]
  },
  {
   "cell_type": "code",
   "execution_count": 19,
   "id": "e86279d5",
   "metadata": {},
   "outputs": [],
   "source": [
    "main_books.year_of_publication.replace(0, np.nan, inplace=True)"
   ]
  },
  {
   "cell_type": "code",
   "execution_count": 20,
   "id": "cb400102",
   "metadata": {},
   "outputs": [
    {
     "data": {
      "image/png": "[encoded data removed]",
      "text/plain": [
       "<Figure size 2000x1000 with 1 Axes>"
      ]
     },
     "metadata": {},
     "output_type": "display_data"
    }
   ],
   "source": [
    "yr = main_books.year_of_publication.value_counts().sort_index()\n",
    "yr = yr.where(yr>1000) # filter out counts less than 5\n",
    "plt.figure(figsize=(20, 10))\n",
    "plt.rcParams.update({'font.size': 15}) # Set larger plot font size\n",
    "plt.bar(yr.index, yr.values)\n",
    "plt.xlabel('Year of Publication')\n",
    "plt.ylabel('counts')\n",
    "plt.show()"
   ]
  },
  {
   "cell_type": "code",
   "execution_count": 21,
   "id": "75e06216",
   "metadata": {},
   "outputs": [
    {
     "name": "stdout",
     "output_type": "stream",
     "text": [
      "Size of book_ratings before removing zero ratings: 1149780\n",
      "Size of book_ratings after removing zero ratings: 433671\n"
     ]
    }
   ],
   "source": [
    "# removing ratings with zero rate from the rating tables\n",
    "print(f'Size of book_ratings before removing zero ratings: {len(ratings)}')\n",
    "ratings = ratings[ratings.book_rating != 0]\n",
    "print(f'Size of book_ratings after removing zero ratings: {len(ratings)}')"
   ]
  },
  {
   "cell_type": "code",
   "execution_count": 22,
   "id": "5a8a6ebd",
   "metadata": {},
   "outputs": [
    {
     "name": "stdout",
     "output_type": "stream",
     "text": [
      "New table size: 433671\n"
     ]
    }
   ],
   "source": [
    "# joining the book and rating tables on isbn, to obtain combined table\n",
    "books_and_ratings = ratings.join(main_books.set_index('isbn'), on='isbn')\n",
    "print(f'New table size: {len(books_and_ratings)}')"
   ]
  },
  {
   "cell_type": "code",
   "execution_count": 23,
   "id": "013d2eb2",
   "metadata": {},
   "outputs": [
    {
     "data": {
      "text/html": [
       "<div>\n",
       "<style scoped>\n",
       "    .dataframe tbody tr th:only-of-type {\n",
       "        vertical-align: middle;\n",
       "    }\n",
       "\n",
       "    .dataframe tbody tr th {\n",
       "        vertical-align: top;\n",
       "    }\n",
       "\n",
       "    .dataframe thead th {\n",
       "        text-align: right;\n",
       "    }\n",
       "</style>\n",
       "<table border=\"1\" class=\"dataframe\">\n",
       "  <thead>\n",
       "    <tr style=\"text-align: right;\">\n",
       "      <th></th>\n",
       "      <th>user_id</th>\n",
       "      <th>isbn</th>\n",
       "      <th>book_rating</th>\n",
       "      <th>book_title</th>\n",
       "      <th>book_author</th>\n",
       "      <th>year_of_publication</th>\n",
       "      <th>publisher</th>\n",
       "      <th>image_url_s</th>\n",
       "      <th>image_url_m</th>\n",
       "      <th>image_url_l</th>\n",
       "    </tr>\n",
       "  </thead>\n",
       "  <tbody>\n",
       "    <tr>\n",
       "      <th>1</th>\n",
       "      <td>276726</td>\n",
       "      <td>0155061224</td>\n",
       "      <td>5</td>\n",
       "      <td>Rites of Passage</td>\n",
       "      <td>Judith Rae</td>\n",
       "      <td>2001.0</td>\n",
       "      <td>Heinle</td>\n",
       "      <td>http://images.amazon.com/images/P/0155061224.0...</td>\n",
       "      <td>http://images.amazon.com/images/P/0155061224.0...</td>\n",
       "      <td>http://images.amazon.com/images/P/0155061224.0...</td>\n",
       "    </tr>\n",
       "    <tr>\n",
       "      <th>3</th>\n",
       "      <td>276729</td>\n",
       "      <td>052165615X</td>\n",
       "      <td>3</td>\n",
       "      <td>Help!: Level 1</td>\n",
       "      <td>Philip Prowse</td>\n",
       "      <td>1999.0</td>\n",
       "      <td>Cambridge University Press</td>\n",
       "      <td>http://images.amazon.com/images/P/052165615X.0...</td>\n",
       "      <td>http://images.amazon.com/images/P/052165615X.0...</td>\n",
       "      <td>http://images.amazon.com/images/P/052165615X.0...</td>\n",
       "    </tr>\n",
       "    <tr>\n",
       "      <th>4</th>\n",
       "      <td>276729</td>\n",
       "      <td>0521795028</td>\n",
       "      <td>6</td>\n",
       "      <td>The Amsterdam Connection : Level 4 (Cambridge ...</td>\n",
       "      <td>Sue Leather</td>\n",
       "      <td>2001.0</td>\n",
       "      <td>Cambridge University Press</td>\n",
       "      <td>http://images.amazon.com/images/P/0521795028.0...</td>\n",
       "      <td>http://images.amazon.com/images/P/0521795028.0...</td>\n",
       "      <td>http://images.amazon.com/images/P/0521795028.0...</td>\n",
       "    </tr>\n",
       "    <tr>\n",
       "      <th>6</th>\n",
       "      <td>276736</td>\n",
       "      <td>3257224281</td>\n",
       "      <td>8</td>\n",
       "      <td>NaN</td>\n",
       "      <td>NaN</td>\n",
       "      <td>NaN</td>\n",
       "      <td>NaN</td>\n",
       "      <td>NaN</td>\n",
       "      <td>NaN</td>\n",
       "      <td>NaN</td>\n",
       "    </tr>\n",
       "    <tr>\n",
       "      <th>7</th>\n",
       "      <td>276737</td>\n",
       "      <td>0600570967</td>\n",
       "      <td>6</td>\n",
       "      <td>NaN</td>\n",
       "      <td>NaN</td>\n",
       "      <td>NaN</td>\n",
       "      <td>NaN</td>\n",
       "      <td>NaN</td>\n",
       "      <td>NaN</td>\n",
       "      <td>NaN</td>\n",
       "    </tr>\n",
       "  </tbody>\n",
       "</table>\n",
       "</div>"
      ],
      "text/plain": [
       "   user_id        isbn  book_rating  \\\n",
       "1   276726  0155061224            5   \n",
       "3   276729  052165615X            3   \n",
       "4   276729  0521795028            6   \n",
       "6   276736  3257224281            8   \n",
       "7   276737  0600570967            6   \n",
       "\n",
       "                                          book_title    book_author  \\\n",
       "1                                   Rites of Passage     Judith Rae   \n",
       "3                                     Help!: Level 1  Philip Prowse   \n",
       "4  The Amsterdam Connection : Level 4 (Cambridge ...    Sue Leather   \n",
       "6                                                NaN            NaN   \n",
       "7                                                NaN            NaN   \n",
       "\n",
       "   year_of_publication                   publisher  \\\n",
       "1               2001.0                      Heinle   \n",
       "3               1999.0  Cambridge University Press   \n",
       "4               2001.0  Cambridge University Press   \n",
       "6                  NaN                         NaN   \n",
       "7                  NaN                         NaN   \n",
       "\n",
       "                                         image_url_s  \\\n",
       "1  http://images.amazon.com/images/P/0155061224.0...   \n",
       "3  http://images.amazon.com/images/P/052165615X.0...   \n",
       "4  http://images.amazon.com/images/P/0521795028.0...   \n",
       "6                                                NaN   \n",
       "7                                                NaN   \n",
       "\n",
       "                                         image_url_m  \\\n",
       "1  http://images.amazon.com/images/P/0155061224.0...   \n",
       "3  http://images.amazon.com/images/P/052165615X.0...   \n",
       "4  http://images.amazon.com/images/P/0521795028.0...   \n",
       "6                                                NaN   \n",
       "7                                                NaN   \n",
       "\n",
       "                                         image_url_l  \n",
       "1  http://images.amazon.com/images/P/0155061224.0...  \n",
       "3  http://images.amazon.com/images/P/052165615X.0...  \n",
       "4  http://images.amazon.com/images/P/0521795028.0...  \n",
       "6                                                NaN  \n",
       "7                                                NaN  "
      ]
     },
     "execution_count": 23,
     "metadata": {},
     "output_type": "execute_result"
    }
   ],
   "source": [
    "books_and_ratings.head()"
   ]
  },
  {
   "cell_type": "code",
   "execution_count": 24,
   "id": "1818dbe0",
   "metadata": {},
   "outputs": [],
   "source": [
    "# we can see some of the books are not having title or author from the combined table\n",
    "# hence we are going to re-clean the by dropping such books entry from our records"
   ]
  },
  {
   "cell_type": "code",
   "execution_count": 25,
   "id": "bdb5f0fb",
   "metadata": {},
   "outputs": [],
   "source": [
    "books_and_ratings.dropna(subset=['book_title'], inplace=True)"
   ]
  },
  {
   "cell_type": "code",
   "execution_count": 26,
   "id": "0f068d3b",
   "metadata": {},
   "outputs": [
    {
     "data": {
      "text/plain": [
       "book_title\n",
       "The Secret Garden                 18\n",
       "Selected Poems                    16\n",
       "Dracula                           15\n",
       "Adventures of Huckleberry Finn    15\n",
       "Beloved                           14\n",
       "Pride and Prejudice               14\n",
       "Little Women                      14\n",
       "Wuthering Heights                 14\n",
       "Jane Eyre                         14\n",
       "The Hobbit                        12\n",
       "Name: isbn, dtype: int64"
      ]
     },
     "execution_count": 26,
     "metadata": {},
     "output_type": "execute_result"
    }
   ],
   "source": [
    "# restrict book to a single isbn\n",
    "books_and_ratings.groupby('book_title').isbn.nunique().sort_values(ascending=False)[:10] "
   ]
  },
  {
   "cell_type": "code",
   "execution_count": 27,
   "id": "d27ea315",
   "metadata": {},
   "outputs": [],
   "source": [
    "# next we join the users and ratings on tables on user_id to obtain a combined table also"
   ]
  },
  {
   "cell_type": "code",
   "execution_count": 28,
   "id": "a546813a",
   "metadata": {},
   "outputs": [
    {
     "name": "stdout",
     "output_type": "stream",
     "text": [
      "combined books and ratings table size: 383852\n",
      "Users table size: 278858\n",
      "combined users and ratings table size: 383852\n"
     ]
    }
   ],
   "source": [
    "# join users and ratings\n",
    "print(f'combined books and ratings table size: {len(books_and_ratings)}')\n",
    "print(f'Users table size: {len(users)}')\n",
    "users_ratings = books_and_ratings.join(users.set_index('user_id'), on='user_id')\n",
    "print(f'combined users and ratings table size: {len(users_ratings)}')"
   ]
  },
  {
   "cell_type": "code",
   "execution_count": 29,
   "id": "eaf1f5ee",
   "metadata": {},
   "outputs": [
    {
     "data": {
      "text/html": [
       "<div>\n",
       "<style scoped>\n",
       "    .dataframe tbody tr th:only-of-type {\n",
       "        vertical-align: middle;\n",
       "    }\n",
       "\n",
       "    .dataframe tbody tr th {\n",
       "        vertical-align: top;\n",
       "    }\n",
       "\n",
       "    .dataframe thead th {\n",
       "        text-align: right;\n",
       "    }\n",
       "</style>\n",
       "<table border=\"1\" class=\"dataframe\">\n",
       "  <thead>\n",
       "    <tr style=\"text-align: right;\">\n",
       "      <th></th>\n",
       "      <th>user_id</th>\n",
       "      <th>isbn</th>\n",
       "      <th>book_rating</th>\n",
       "      <th>book_title</th>\n",
       "      <th>book_author</th>\n",
       "      <th>year_of_publication</th>\n",
       "      <th>publisher</th>\n",
       "      <th>image_url_s</th>\n",
       "      <th>image_url_m</th>\n",
       "      <th>image_url_l</th>\n",
       "      <th>location</th>\n",
       "      <th>age</th>\n",
       "    </tr>\n",
       "  </thead>\n",
       "  <tbody>\n",
       "    <tr>\n",
       "      <th>1</th>\n",
       "      <td>276726</td>\n",
       "      <td>0155061224</td>\n",
       "      <td>5</td>\n",
       "      <td>Rites of Passage</td>\n",
       "      <td>Judith Rae</td>\n",
       "      <td>2001.0</td>\n",
       "      <td>Heinle</td>\n",
       "      <td>http://images.amazon.com/images/P/0155061224.0...</td>\n",
       "      <td>http://images.amazon.com/images/P/0155061224.0...</td>\n",
       "      <td>http://images.amazon.com/images/P/0155061224.0...</td>\n",
       "      <td>seattle, washington, usa</td>\n",
       "      <td>NaN</td>\n",
       "    </tr>\n",
       "    <tr>\n",
       "      <th>3</th>\n",
       "      <td>276729</td>\n",
       "      <td>052165615X</td>\n",
       "      <td>3</td>\n",
       "      <td>Help!: Level 1</td>\n",
       "      <td>Philip Prowse</td>\n",
       "      <td>1999.0</td>\n",
       "      <td>Cambridge University Press</td>\n",
       "      <td>http://images.amazon.com/images/P/052165615X.0...</td>\n",
       "      <td>http://images.amazon.com/images/P/052165615X.0...</td>\n",
       "      <td>http://images.amazon.com/images/P/052165615X.0...</td>\n",
       "      <td>rijeka, n/a, croatia</td>\n",
       "      <td>16.0</td>\n",
       "    </tr>\n",
       "    <tr>\n",
       "      <th>4</th>\n",
       "      <td>276729</td>\n",
       "      <td>0521795028</td>\n",
       "      <td>6</td>\n",
       "      <td>The Amsterdam Connection : Level 4 (Cambridge ...</td>\n",
       "      <td>Sue Leather</td>\n",
       "      <td>2001.0</td>\n",
       "      <td>Cambridge University Press</td>\n",
       "      <td>http://images.amazon.com/images/P/0521795028.0...</td>\n",
       "      <td>http://images.amazon.com/images/P/0521795028.0...</td>\n",
       "      <td>http://images.amazon.com/images/P/0521795028.0...</td>\n",
       "      <td>rijeka, n/a, croatia</td>\n",
       "      <td>16.0</td>\n",
       "    </tr>\n",
       "    <tr>\n",
       "      <th>8</th>\n",
       "      <td>276744</td>\n",
       "      <td>038550120X</td>\n",
       "      <td>7</td>\n",
       "      <td>A Painted House</td>\n",
       "      <td>JOHN GRISHAM</td>\n",
       "      <td>2001.0</td>\n",
       "      <td>Doubleday</td>\n",
       "      <td>http://images.amazon.com/images/P/038550120X.0...</td>\n",
       "      <td>http://images.amazon.com/images/P/038550120X.0...</td>\n",
       "      <td>http://images.amazon.com/images/P/038550120X.0...</td>\n",
       "      <td>torrance, california, usa</td>\n",
       "      <td>NaN</td>\n",
       "    </tr>\n",
       "    <tr>\n",
       "      <th>16</th>\n",
       "      <td>276747</td>\n",
       "      <td>0060517794</td>\n",
       "      <td>9</td>\n",
       "      <td>Little Altars Everywhere</td>\n",
       "      <td>Rebecca Wells</td>\n",
       "      <td>2003.0</td>\n",
       "      <td>HarperTorch</td>\n",
       "      <td>http://images.amazon.com/images/P/0060517794.0...</td>\n",
       "      <td>http://images.amazon.com/images/P/0060517794.0...</td>\n",
       "      <td>http://images.amazon.com/images/P/0060517794.0...</td>\n",
       "      <td>iowa city, iowa, usa</td>\n",
       "      <td>25.0</td>\n",
       "    </tr>\n",
       "  </tbody>\n",
       "</table>\n",
       "</div>"
      ],
      "text/plain": [
       "    user_id        isbn  book_rating  \\\n",
       "1    276726  0155061224            5   \n",
       "3    276729  052165615X            3   \n",
       "4    276729  0521795028            6   \n",
       "8    276744  038550120X            7   \n",
       "16   276747  0060517794            9   \n",
       "\n",
       "                                           book_title    book_author  \\\n",
       "1                                    Rites of Passage     Judith Rae   \n",
       "3                                      Help!: Level 1  Philip Prowse   \n",
       "4   The Amsterdam Connection : Level 4 (Cambridge ...    Sue Leather   \n",
       "8                                     A Painted House   JOHN GRISHAM   \n",
       "16                           Little Altars Everywhere  Rebecca Wells   \n",
       "\n",
       "    year_of_publication                   publisher  \\\n",
       "1                2001.0                      Heinle   \n",
       "3                1999.0  Cambridge University Press   \n",
       "4                2001.0  Cambridge University Press   \n",
       "8                2001.0                   Doubleday   \n",
       "16               2003.0                 HarperTorch   \n",
       "\n",
       "                                          image_url_s  \\\n",
       "1   http://images.amazon.com/images/P/0155061224.0...   \n",
       "3   http://images.amazon.com/images/P/052165615X.0...   \n",
       "4   http://images.amazon.com/images/P/0521795028.0...   \n",
       "8   http://images.amazon.com/images/P/038550120X.0...   \n",
       "16  http://images.amazon.com/images/P/0060517794.0...   \n",
       "\n",
       "                                          image_url_m  \\\n",
       "1   http://images.amazon.com/images/P/0155061224.0...   \n",
       "3   http://images.amazon.com/images/P/052165615X.0...   \n",
       "4   http://images.amazon.com/images/P/0521795028.0...   \n",
       "8   http://images.amazon.com/images/P/038550120X.0...   \n",
       "16  http://images.amazon.com/images/P/0060517794.0...   \n",
       "\n",
       "                                          image_url_l  \\\n",
       "1   http://images.amazon.com/images/P/0155061224.0...   \n",
       "3   http://images.amazon.com/images/P/052165615X.0...   \n",
       "4   http://images.amazon.com/images/P/0521795028.0...   \n",
       "8   http://images.amazon.com/images/P/038550120X.0...   \n",
       "16  http://images.amazon.com/images/P/0060517794.0...   \n",
       "\n",
       "                     location   age  \n",
       "1    seattle, washington, usa   NaN  \n",
       "3        rijeka, n/a, croatia  16.0  \n",
       "4        rijeka, n/a, croatia  16.0  \n",
       "8   torrance, california, usa   NaN  \n",
       "16       iowa city, iowa, usa  25.0  "
      ]
     },
     "execution_count": 29,
     "metadata": {},
     "output_type": "execute_result"
    }
   ],
   "source": [
    "users_ratings.head()"
   ]
  },
  {
   "cell_type": "code",
   "execution_count": 30,
   "id": "08ea42ff",
   "metadata": {},
   "outputs": [
    {
     "data": {
      "text/html": [
       "<div>\n",
       "<style scoped>\n",
       "    .dataframe tbody tr th:only-of-type {\n",
       "        vertical-align: middle;\n",
       "    }\n",
       "\n",
       "    .dataframe tbody tr th {\n",
       "        vertical-align: top;\n",
       "    }\n",
       "\n",
       "    .dataframe thead th {\n",
       "        text-align: right;\n",
       "    }\n",
       "</style>\n",
       "<table border=\"1\" class=\"dataframe\">\n",
       "  <thead>\n",
       "    <tr style=\"text-align: right;\">\n",
       "      <th></th>\n",
       "      <th>user_id</th>\n",
       "      <th>isbn</th>\n",
       "      <th>book_rating</th>\n",
       "      <th>book_title</th>\n",
       "      <th>book_author</th>\n",
       "    </tr>\n",
       "  </thead>\n",
       "  <tbody>\n",
       "    <tr>\n",
       "      <th>1</th>\n",
       "      <td>276726</td>\n",
       "      <td>0155061224</td>\n",
       "      <td>5</td>\n",
       "      <td>Rites of Passage</td>\n",
       "      <td>Judith Rae</td>\n",
       "    </tr>\n",
       "    <tr>\n",
       "      <th>3</th>\n",
       "      <td>276729</td>\n",
       "      <td>052165615X</td>\n",
       "      <td>3</td>\n",
       "      <td>Help!: Level 1</td>\n",
       "      <td>Philip Prowse</td>\n",
       "    </tr>\n",
       "    <tr>\n",
       "      <th>4</th>\n",
       "      <td>276729</td>\n",
       "      <td>0521795028</td>\n",
       "      <td>6</td>\n",
       "      <td>The Amsterdam Connection : Level 4 (Cambridge ...</td>\n",
       "      <td>Sue Leather</td>\n",
       "    </tr>\n",
       "    <tr>\n",
       "      <th>8</th>\n",
       "      <td>276744</td>\n",
       "      <td>038550120X</td>\n",
       "      <td>7</td>\n",
       "      <td>A Painted House</td>\n",
       "      <td>JOHN GRISHAM</td>\n",
       "    </tr>\n",
       "    <tr>\n",
       "      <th>16</th>\n",
       "      <td>276747</td>\n",
       "      <td>0060517794</td>\n",
       "      <td>9</td>\n",
       "      <td>Little Altars Everywhere</td>\n",
       "      <td>Rebecca Wells</td>\n",
       "    </tr>\n",
       "  </tbody>\n",
       "</table>\n",
       "</div>"
      ],
      "text/plain": [
       "    user_id        isbn  book_rating  \\\n",
       "1    276726  0155061224            5   \n",
       "3    276729  052165615X            3   \n",
       "4    276729  0521795028            6   \n",
       "8    276744  038550120X            7   \n",
       "16   276747  0060517794            9   \n",
       "\n",
       "                                           book_title    book_author  \n",
       "1                                    Rites of Passage     Judith Rae  \n",
       "3                                      Help!: Level 1  Philip Prowse  \n",
       "4   The Amsterdam Connection : Level 4 (Cambridge ...    Sue Leather  \n",
       "8                                     A Painted House   JOHN GRISHAM  \n",
       "16                           Little Altars Everywhere  Rebecca Wells  "
      ]
     },
     "execution_count": 30,
     "metadata": {},
     "output_type": "execute_result"
    }
   ],
   "source": [
    "book_rating = users_ratings[['user_id', 'isbn', 'book_rating', 'book_title', 'book_author']]\n",
    "book_rating.head()"
   ]
  },
  {
   "cell_type": "code",
   "execution_count": null,
   "id": "2eaf3939",
   "metadata": {},
   "outputs": [],
   "source": []
  },
  {
   "cell_type": "markdown",
   "id": "f87d9fef",
   "metadata": {},
   "source": [
    "# Additional Experiments Start From Here\n"
   ]
  },
  {
   "cell_type": "markdown",
   "id": "b90a64e5",
   "metadata": {},
   "source": [
    "# New Experiment 1\n"
   ]
  },
  {
   "cell_type": "code",
   "execution_count": 31,
   "id": "e3dc4113",
   "metadata": {},
   "outputs": [],
   "source": [
    "# new experimental work 1, what we want to achieve\n",
    "# 1. calculate the accuracy of the system\n",
    "# 2. remove/add some data from/to the system\n",
    "# 3. calculate the accuracy again\n",
    "# 4. make comparison between before adding/removing from/to the system\n",
    "\n"
   ]
  },
  {
   "cell_type": "code",
   "execution_count": 32,
   "id": "140c9851",
   "metadata": {},
   "outputs": [
    {
     "data": {
      "text/html": [
       "<div>\n",
       "<style scoped>\n",
       "    .dataframe tbody tr th:only-of-type {\n",
       "        vertical-align: middle;\n",
       "    }\n",
       "\n",
       "    .dataframe tbody tr th {\n",
       "        vertical-align: top;\n",
       "    }\n",
       "\n",
       "    .dataframe thead th {\n",
       "        text-align: right;\n",
       "    }\n",
       "</style>\n",
       "<table border=\"1\" class=\"dataframe\">\n",
       "  <thead>\n",
       "    <tr style=\"text-align: right;\">\n",
       "      <th></th>\n",
       "      <th>user_id</th>\n",
       "      <th>isbn</th>\n",
       "      <th>book_rating</th>\n",
       "      <th>book_title</th>\n",
       "      <th>book_author</th>\n",
       "    </tr>\n",
       "  </thead>\n",
       "  <tbody>\n",
       "    <tr>\n",
       "      <th>1</th>\n",
       "      <td>276726</td>\n",
       "      <td>0155061224</td>\n",
       "      <td>5</td>\n",
       "      <td>Rites of Passage</td>\n",
       "      <td>Judith Rae</td>\n",
       "    </tr>\n",
       "    <tr>\n",
       "      <th>3</th>\n",
       "      <td>276729</td>\n",
       "      <td>052165615X</td>\n",
       "      <td>3</td>\n",
       "      <td>Help!: Level 1</td>\n",
       "      <td>Philip Prowse</td>\n",
       "    </tr>\n",
       "    <tr>\n",
       "      <th>4</th>\n",
       "      <td>276729</td>\n",
       "      <td>0521795028</td>\n",
       "      <td>6</td>\n",
       "      <td>The Amsterdam Connection : Level 4 (Cambridge ...</td>\n",
       "      <td>Sue Leather</td>\n",
       "    </tr>\n",
       "    <tr>\n",
       "      <th>8</th>\n",
       "      <td>276744</td>\n",
       "      <td>038550120X</td>\n",
       "      <td>7</td>\n",
       "      <td>A Painted House</td>\n",
       "      <td>JOHN GRISHAM</td>\n",
       "    </tr>\n",
       "    <tr>\n",
       "      <th>16</th>\n",
       "      <td>276747</td>\n",
       "      <td>0060517794</td>\n",
       "      <td>9</td>\n",
       "      <td>Little Altars Everywhere</td>\n",
       "      <td>Rebecca Wells</td>\n",
       "    </tr>\n",
       "    <tr>\n",
       "      <th>...</th>\n",
       "      <td>...</td>\n",
       "      <td>...</td>\n",
       "      <td>...</td>\n",
       "      <td>...</td>\n",
       "      <td>...</td>\n",
       "    </tr>\n",
       "    <tr>\n",
       "      <th>1149690</th>\n",
       "      <td>276688</td>\n",
       "      <td>0425156737</td>\n",
       "      <td>2</td>\n",
       "      <td>Graven Images</td>\n",
       "      <td>Jane Waterhouse</td>\n",
       "    </tr>\n",
       "    <tr>\n",
       "      <th>1149719</th>\n",
       "      <td>276688</td>\n",
       "      <td>0671563149</td>\n",
       "      <td>6</td>\n",
       "      <td>MUDDY WATER (Peter Bartholomew Mysteries)</td>\n",
       "      <td>Sally Gunning</td>\n",
       "    </tr>\n",
       "    <tr>\n",
       "      <th>1149747</th>\n",
       "      <td>276688</td>\n",
       "      <td>1575660792</td>\n",
       "      <td>7</td>\n",
       "      <td>Gray Matter</td>\n",
       "      <td>Shirley Kennett</td>\n",
       "    </tr>\n",
       "    <tr>\n",
       "      <th>1149762</th>\n",
       "      <td>276704</td>\n",
       "      <td>0380796155</td>\n",
       "      <td>5</td>\n",
       "      <td>White Abacus</td>\n",
       "      <td>Damien Broderick</td>\n",
       "    </tr>\n",
       "    <tr>\n",
       "      <th>1149773</th>\n",
       "      <td>276704</td>\n",
       "      <td>0806917695</td>\n",
       "      <td>5</td>\n",
       "      <td>Perplexing Lateral Thinking Puzzles: Scholasti...</td>\n",
       "      <td>Paul Sloane</td>\n",
       "    </tr>\n",
       "  </tbody>\n",
       "</table>\n",
       "<p>149842 rows × 5 columns</p>\n",
       "</div>"
      ],
      "text/plain": [
       "         user_id        isbn  book_rating  \\\n",
       "1         276726  0155061224            5   \n",
       "3         276729  052165615X            3   \n",
       "4         276729  0521795028            6   \n",
       "8         276744  038550120X            7   \n",
       "16        276747  0060517794            9   \n",
       "...          ...         ...          ...   \n",
       "1149690   276688  0425156737            2   \n",
       "1149719   276688  0671563149            6   \n",
       "1149747   276688  1575660792            7   \n",
       "1149762   276704  0380796155            5   \n",
       "1149773   276704  0806917695            5   \n",
       "\n",
       "                                                book_title       book_author  \n",
       "1                                         Rites of Passage        Judith Rae  \n",
       "3                                           Help!: Level 1     Philip Prowse  \n",
       "4        The Amsterdam Connection : Level 4 (Cambridge ...       Sue Leather  \n",
       "8                                          A Painted House      JOHN GRISHAM  \n",
       "16                                Little Altars Everywhere     Rebecca Wells  \n",
       "...                                                    ...               ...  \n",
       "1149690                                      Graven Images   Jane Waterhouse  \n",
       "1149719          MUDDY WATER (Peter Bartholomew Mysteries)     Sally Gunning  \n",
       "1149747                                        Gray Matter   Shirley Kennett  \n",
       "1149762                                       White Abacus  Damien Broderick  \n",
       "1149773  Perplexing Lateral Thinking Puzzles: Scholasti...       Paul Sloane  \n",
       "\n",
       "[149842 rows x 5 columns]"
      ]
     },
     "execution_count": 32,
     "metadata": {},
     "output_type": "execute_result"
    }
   ],
   "source": [
    "book_rating.drop_duplicates(\"isbn\")"
   ]
  },
  {
   "cell_type": "code",
   "execution_count": 33,
   "id": "34460f75",
   "metadata": {},
   "outputs": [
    {
     "data": {
      "text/html": [
       "<div>\n",
       "<style scoped>\n",
       "    .dataframe tbody tr th:only-of-type {\n",
       "        vertical-align: middle;\n",
       "    }\n",
       "\n",
       "    .dataframe tbody tr th {\n",
       "        vertical-align: top;\n",
       "    }\n",
       "\n",
       "    .dataframe thead th {\n",
       "        text-align: right;\n",
       "    }\n",
       "</style>\n",
       "<table border=\"1\" class=\"dataframe\">\n",
       "  <thead>\n",
       "    <tr style=\"text-align: right;\">\n",
       "      <th></th>\n",
       "      <th>user_id</th>\n",
       "      <th>isbn</th>\n",
       "      <th>book_rating</th>\n",
       "      <th>book_title</th>\n",
       "      <th>book_author</th>\n",
       "    </tr>\n",
       "  </thead>\n",
       "  <tbody>\n",
       "    <tr>\n",
       "      <th>1</th>\n",
       "      <td>276726</td>\n",
       "      <td>0155061224</td>\n",
       "      <td>5</td>\n",
       "      <td>Rites of Passage</td>\n",
       "      <td>Judith Rae</td>\n",
       "    </tr>\n",
       "    <tr>\n",
       "      <th>3</th>\n",
       "      <td>276729</td>\n",
       "      <td>052165615X</td>\n",
       "      <td>3</td>\n",
       "      <td>Help!: Level 1</td>\n",
       "      <td>Philip Prowse</td>\n",
       "    </tr>\n",
       "    <tr>\n",
       "      <th>4</th>\n",
       "      <td>276729</td>\n",
       "      <td>0521795028</td>\n",
       "      <td>6</td>\n",
       "      <td>The Amsterdam Connection : Level 4 (Cambridge ...</td>\n",
       "      <td>Sue Leather</td>\n",
       "    </tr>\n",
       "    <tr>\n",
       "      <th>8</th>\n",
       "      <td>276744</td>\n",
       "      <td>038550120X</td>\n",
       "      <td>7</td>\n",
       "      <td>A Painted House</td>\n",
       "      <td>JOHN GRISHAM</td>\n",
       "    </tr>\n",
       "    <tr>\n",
       "      <th>16</th>\n",
       "      <td>276747</td>\n",
       "      <td>0060517794</td>\n",
       "      <td>9</td>\n",
       "      <td>Little Altars Everywhere</td>\n",
       "      <td>Rebecca Wells</td>\n",
       "    </tr>\n",
       "  </tbody>\n",
       "</table>\n",
       "</div>"
      ],
      "text/plain": [
       "    user_id        isbn  book_rating  \\\n",
       "1    276726  0155061224            5   \n",
       "3    276729  052165615X            3   \n",
       "4    276729  0521795028            6   \n",
       "8    276744  038550120X            7   \n",
       "16   276747  0060517794            9   \n",
       "\n",
       "                                           book_title    book_author  \n",
       "1                                    Rites of Passage     Judith Rae  \n",
       "3                                      Help!: Level 1  Philip Prowse  \n",
       "4   The Amsterdam Connection : Level 4 (Cambridge ...    Sue Leather  \n",
       "8                                     A Painted House   JOHN GRISHAM  \n",
       "16                           Little Altars Everywhere  Rebecca Wells  "
      ]
     },
     "execution_count": 33,
     "metadata": {},
     "output_type": "execute_result"
    }
   ],
   "source": [
    "book_ratings = users_ratings[['user_id', 'isbn', 'book_rating', 'book_title', 'book_author']][:100]\n",
    "book_rating.head()"
   ]
  },
  {
   "cell_type": "code",
   "execution_count": 34,
   "id": "5566e00b",
   "metadata": {},
   "outputs": [
    {
     "data": {
      "text/plain": [
       "user_id        100\n",
       "isbn           100\n",
       "book_rating    100\n",
       "book_title     100\n",
       "book_author    100\n",
       "dtype: int64"
      ]
     },
     "execution_count": 34,
     "metadata": {},
     "output_type": "execute_result"
    }
   ],
   "source": [
    "book_ratings.count()"
   ]
  },
  {
   "cell_type": "code",
   "execution_count": 62,
   "id": "6696e87f",
   "metadata": {},
   "outputs": [],
   "source": [
    "book_user_dict = {}\n",
    "for index, row in book_ratings.iterrows():\n",
    "    if row['isbn'] in book_user_dict:\n",
    "        book_user_dict[row['isbn']][row['user_id']] = row['book_rating']\n",
    "    else:\n",
    "        book_user_dict[row['isbn']] = {row['user_id']: row['book_rating']}"
   ]
  },
  {
   "cell_type": "code",
   "execution_count": 36,
   "id": "9ec87cd6",
   "metadata": {},
   "outputs": [],
   "source": [
    "# The cosine similarity between two vectors A and B is defined as \n",
    "# the cosine of the angle between the two vectors, and can be calculated as follows:\n",
    "# cos(theta) = (A . B) / (||A|| * ||B||)\n",
    "\n",
    "# where (A . B) is the dot product of the vectors A and B, and ||A|| and ||B|| \n",
    "# are the magnitudes of the vectors A and B, respectively.\n",
    "\n",
    "# In the context of recommendation systems, the vectors A and B can be thought \n",
    "# of as vectors representing the ratings of two different users for a set of items. \n",
    "# The dot product of the vectors is the sum of the product of the ratings \n",
    "# for each item that both users have rated, and the magnitude of each vector is \n",
    "# the square root of the sum of the squares of the ratings for each item that the user has rated.\n"
   ]
  },
  {
   "cell_type": "code",
   "execution_count": 63,
   "id": "07852e09",
   "metadata": {},
   "outputs": [],
   "source": [
    "# Compute the cosine similarity between books\n",
    "def cosine_similarity(book1, book2):\n",
    "    common_users = set(book1.keys()).intersection(set(book2.keys()))\n",
    "    numerator = sum([book1[user] * book2[user] for user in common_users])\n",
    "    book1_norm = np.sqrt(sum([book1[user]**2 for user in book1.keys()]))\n",
    "    book2_norm = np.sqrt(sum([book2[user]**2 for user in book2.keys()]))\n",
    "    denominator = book1_norm * book2_norm\n",
    "    return numerator / denominator if denominator else 0"
   ]
  },
  {
   "cell_type": "code",
   "execution_count": 64,
   "id": "3adf9cd5",
   "metadata": {},
   "outputs": [],
   "source": [
    "# Compute the cosine similarity between all books\n",
    "book_similarity = {book1: {book2: cosine_similarity(book_user_dict[book1], book_user_dict[book2]) for book2 in book_user_dict.keys()} for book1 in book_user_dict.keys()}"
   ]
  },
  {
   "cell_type": "code",
   "execution_count": 39,
   "id": "4055206c",
   "metadata": {},
   "outputs": [],
   "source": [
    "# Function to get top n similar books for a given book\n",
    "def recommend_books(book_id, top_n):\n",
    "    similarity_scores = book_similarity[book_id]\n",
    "    top_n_books = sorted(similarity_scores, key=lambda x: similarity_scores[x], reverse=True)[:top_n]\n",
    "    return top_n_books"
   ]
  },
  {
   "cell_type": "code",
   "execution_count": 40,
   "id": "b697f2a5",
   "metadata": {},
   "outputs": [
    {
     "name": "stdout",
     "output_type": "stream",
     "text": [
      "['052165615X', '0521795028']\n"
     ]
    }
   ],
   "source": [
    "print(recommend_books(\"052165615X\", 2))"
   ]
  },
  {
   "cell_type": "code",
   "execution_count": 41,
   "id": "007267eb",
   "metadata": {},
   "outputs": [],
   "source": [
    "# Test the performance of the recommendation system\n",
    "def test_performance(book_ratings, top_n):\n",
    "    total_recommended = 0\n",
    "    total_correct = 0\n",
    "    for index, row in book_ratings.iterrows():\n",
    "        recommended_books = recommend_books(row['isbn'], top_n)\n",
    "        total_recommended += top_n\n",
    "        if row['isbn'] in recommended_books:\n",
    "            total_correct += 1\n",
    "    accuracy = total_correct / total_recommended\n",
    "    return accuracy"
   ]
  },
  {
   "cell_type": "code",
   "execution_count": 42,
   "id": "aab55d1f",
   "metadata": {},
   "outputs": [
    {
     "name": "stdout",
     "output_type": "stream",
     "text": [
      "Accuracy before adding or removing a record: 0.126\n"
     ]
    }
   ],
   "source": [
    "print(\"Accuracy before adding or removing a record:\", test_performance(book_ratings, 5))\n"
   ]
  },
  {
   "cell_type": "code",
   "execution_count": 48,
   "id": "a68270d1",
   "metadata": {},
   "outputs": [
    {
     "name": "stdout",
     "output_type": "stream",
     "text": [
      "Accuracy after adding a record: 0.12815533980582525\n"
     ]
    }
   ],
   "source": [
    "# Add a record to the dataset\n",
    "book_ratings = book_ratings.append({'user_id': 1, 'isbn': '0671027365', 'book_rating': 5.0}, ignore_index=True)\n",
    "print(\"Accuracy after adding a record:\", test_performance(book_ratings, 5))"
   ]
  },
  {
   "cell_type": "code",
   "execution_count": 49,
   "id": "4bd8210e",
   "metadata": {},
   "outputs": [
    {
     "name": "stdout",
     "output_type": "stream",
     "text": [
      "Accuracy after additional record: 0.18122977346278318\n"
     ]
    }
   ],
   "source": [
    "# add more record to the dataset and compute accuracy again\n",
    "book_ratings1 = book_ratings.append({'user_id': 15, 'isbn': '0123456789', 'book_rating': 3.0}, ignore_index=True)\n",
    "print(\"Accuracy after additional record:\", test_performance(book_ratings, 3))"
   ]
  },
  {
   "cell_type": "code",
   "execution_count": 65,
   "id": "249bd8ac",
   "metadata": {},
   "outputs": [
    {
     "name": "stdout",
     "output_type": "stream",
     "text": [
      "Accuracy after additional record: 0.18122977346278318\n"
     ]
    }
   ],
   "source": [
    "book_ratings2 = book_ratings.append({'user_id': 9, 'isbn': '0123456789', 'book_rating': 3.0}, ignore_index=True)\n",
    "print(\"Accuracy after additional record:\", test_performance(book_ratings, 3))"
   ]
  },
  {
   "cell_type": "code",
   "execution_count": 71,
   "id": "ac647d89",
   "metadata": {},
   "outputs": [
    {
     "name": "stdout",
     "output_type": "stream",
     "text": [
      "Accuracy after additional record: 0.23300970873786409\n"
     ]
    }
   ],
   "source": [
    "book_ratings3 = book_ratings.append({'user_id': 15, 'isbn': '0123456709', 'book_rating': 2.0}, ignore_index=True)\n",
    "print(\"Accuracy after additional record:\", test_performance(book_ratings, 2))"
   ]
  },
  {
   "cell_type": "code",
   "execution_count": 72,
   "id": "b5acef9d",
   "metadata": {},
   "outputs": [
    {
     "name": "stdout",
     "output_type": "stream",
     "text": [
      "Accuracy after additional record: 0.33980582524271846\n"
     ]
    }
   ],
   "source": [
    "book_ratings4 = book_ratings.append({'user_id': 18, 'isbn': '0123456709', 'book_rating': 1.0}, ignore_index=True)\n",
    "print(\"Accuracy after additional record:\", test_performance(book_ratings, 1))"
   ]
  },
  {
   "cell_type": "markdown",
   "id": "c22cea9e",
   "metadata": {},
   "source": [
    "# Experiment Result Comment:\n"
   ]
  },
  {
   "cell_type": "code",
   "execution_count": null,
   "id": "fd16ae1a",
   "metadata": {},
   "outputs": [],
   "source": [
    "# we can see the more records we have on our dataset the more accurate the recommnendation logic become"
   ]
  },
  {
   "cell_type": "code",
   "execution_count": null,
   "id": "43d7faf1",
   "metadata": {},
   "outputs": [],
   "source": [
    "# Remove a record from the dataset\n",
    "# book_ratings = book_ratings[book_ratings['isbn'] != '0671027360']\n",
    "# print(\"Accuracy after removing a record:\", test_performance(book_ratings, 5))"
   ]
  },
  {
   "cell_type": "code",
   "execution_count": null,
   "id": "79aa90fa",
   "metadata": {},
   "outputs": [],
   "source": []
  },
  {
   "cell_type": "markdown",
   "id": "c3e842e0",
   "metadata": {},
   "source": [
    "# New Experiment 2\n"
   ]
  },
  {
   "cell_type": "code",
   "execution_count": null,
   "id": "b048112e",
   "metadata": {},
   "outputs": [],
   "source": [
    "# second experiment using movie lens dataset instead of book crossing dataset\n",
    "# 1. User input a movie name\n",
    "# 2. we don't have the record on our dataset\n",
    "# 3. the system will recommend movie based on the description as inputed by the user\n",
    "# Note: This is aimed to resolved the cold start problem with recommendation system.\n",
    "#     To resolve this the input record will first be collected with the description and passed\n",
    "#     to the dataset, from there the similiraty will be computed and returned similar\n",
    "#     items to the user"
   ]
  },
  {
   "cell_type": "code",
   "execution_count": 73,
   "id": "cd9ff935",
   "metadata": {},
   "outputs": [],
   "source": [
    "movies = pd.read_csv(\"movies_dataset/movies.csv\")\n",
    "movies_ratings = pd.read_csv(\"movies_dataset/ratings.csv\")"
   ]
  },
  {
   "cell_type": "code",
   "execution_count": 74,
   "id": "0a37bfb4",
   "metadata": {},
   "outputs": [
    {
     "data": {
      "text/html": [
       "<div>\n",
       "<style scoped>\n",
       "    .dataframe tbody tr th:only-of-type {\n",
       "        vertical-align: middle;\n",
       "    }\n",
       "\n",
       "    .dataframe tbody tr th {\n",
       "        vertical-align: top;\n",
       "    }\n",
       "\n",
       "    .dataframe thead th {\n",
       "        text-align: right;\n",
       "    }\n",
       "</style>\n",
       "<table border=\"1\" class=\"dataframe\">\n",
       "  <thead>\n",
       "    <tr style=\"text-align: right;\">\n",
       "      <th></th>\n",
       "      <th>movieId</th>\n",
       "      <th>title</th>\n",
       "      <th>genres</th>\n",
       "    </tr>\n",
       "  </thead>\n",
       "  <tbody>\n",
       "    <tr>\n",
       "      <th>0</th>\n",
       "      <td>1</td>\n",
       "      <td>Toy Story (1995)</td>\n",
       "      <td>Adventure|Animation|Children|Comedy|Fantasy</td>\n",
       "    </tr>\n",
       "    <tr>\n",
       "      <th>1</th>\n",
       "      <td>2</td>\n",
       "      <td>Jumanji (1995)</td>\n",
       "      <td>Adventure|Children|Fantasy</td>\n",
       "    </tr>\n",
       "    <tr>\n",
       "      <th>2</th>\n",
       "      <td>3</td>\n",
       "      <td>Grumpier Old Men (1995)</td>\n",
       "      <td>Comedy|Romance</td>\n",
       "    </tr>\n",
       "    <tr>\n",
       "      <th>3</th>\n",
       "      <td>4</td>\n",
       "      <td>Waiting to Exhale (1995)</td>\n",
       "      <td>Comedy|Drama|Romance</td>\n",
       "    </tr>\n",
       "    <tr>\n",
       "      <th>4</th>\n",
       "      <td>5</td>\n",
       "      <td>Father of the Bride Part II (1995)</td>\n",
       "      <td>Comedy</td>\n",
       "    </tr>\n",
       "  </tbody>\n",
       "</table>\n",
       "</div>"
      ],
      "text/plain": [
       "   movieId                               title  \\\n",
       "0        1                    Toy Story (1995)   \n",
       "1        2                      Jumanji (1995)   \n",
       "2        3             Grumpier Old Men (1995)   \n",
       "3        4            Waiting to Exhale (1995)   \n",
       "4        5  Father of the Bride Part II (1995)   \n",
       "\n",
       "                                        genres  \n",
       "0  Adventure|Animation|Children|Comedy|Fantasy  \n",
       "1                   Adventure|Children|Fantasy  \n",
       "2                               Comedy|Romance  \n",
       "3                         Comedy|Drama|Romance  \n",
       "4                                       Comedy  "
      ]
     },
     "execution_count": 74,
     "metadata": {},
     "output_type": "execute_result"
    }
   ],
   "source": [
    "movies.head()"
   ]
  },
  {
   "cell_type": "code",
   "execution_count": null,
   "id": "36665d8f",
   "metadata": {},
   "outputs": [],
   "source": []
  },
  {
   "cell_type": "code",
   "execution_count": 75,
   "id": "b95f5f70",
   "metadata": {},
   "outputs": [
    {
     "data": {
      "text/plain": [
       "movieId     int64\n",
       "title      object\n",
       "genres     object\n",
       "dtype: object"
      ]
     },
     "execution_count": 75,
     "metadata": {},
     "output_type": "execute_result"
    }
   ],
   "source": [
    "movies.dtypes"
   ]
  },
  {
   "cell_type": "code",
   "execution_count": 76,
   "id": "08c4eca6",
   "metadata": {},
   "outputs": [
    {
     "data": {
      "text/plain": [
       "movieId    62423\n",
       "title      62423\n",
       "genres     62423\n",
       "dtype: int64"
      ]
     },
     "execution_count": 76,
     "metadata": {},
     "output_type": "execute_result"
    }
   ],
   "source": [
    "movies.count()"
   ]
  },
  {
   "cell_type": "code",
   "execution_count": 77,
   "id": "c3b58658",
   "metadata": {},
   "outputs": [
    {
     "data": {
      "text/plain": [
       "userId         int64\n",
       "movieId        int64\n",
       "rating       float64\n",
       "timestamp      int64\n",
       "dtype: object"
      ]
     },
     "execution_count": 77,
     "metadata": {},
     "output_type": "execute_result"
    }
   ],
   "source": [
    "movies_ratings.dtypes"
   ]
  },
  {
   "cell_type": "code",
   "execution_count": 78,
   "id": "0db6cae5",
   "metadata": {},
   "outputs": [
    {
     "data": {
      "text/plain": [
       "userId       25000095\n",
       "movieId      25000095\n",
       "rating       25000095\n",
       "timestamp    25000095\n",
       "dtype: int64"
      ]
     },
     "execution_count": 78,
     "metadata": {},
     "output_type": "execute_result"
    }
   ],
   "source": [
    "movies_ratings.count()"
   ]
  },
  {
   "cell_type": "code",
   "execution_count": 79,
   "id": "4707dd5d",
   "metadata": {},
   "outputs": [],
   "source": [
    "from sklearn.feature_extraction.text import TfidfVectorizer\n",
    "from sklearn.metrics.pairwise import linear_kernel\n",
    "from sklearn.metrics.pairwise import cosine_similarity"
   ]
  },
  {
   "cell_type": "code",
   "execution_count": 80,
   "id": "cdaf52dd",
   "metadata": {},
   "outputs": [],
   "source": [
    "movies_10k = movies[:10000]"
   ]
  },
  {
   "cell_type": "code",
   "execution_count": null,
   "id": "a7180ea5",
   "metadata": {},
   "outputs": [],
   "source": []
  },
  {
   "cell_type": "code",
   "execution_count": 81,
   "id": "048357c3",
   "metadata": {},
   "outputs": [
    {
     "data": {
      "text/html": [
       "<div>\n",
       "<style scoped>\n",
       "    .dataframe tbody tr th:only-of-type {\n",
       "        vertical-align: middle;\n",
       "    }\n",
       "\n",
       "    .dataframe tbody tr th {\n",
       "        vertical-align: top;\n",
       "    }\n",
       "\n",
       "    .dataframe thead th {\n",
       "        text-align: right;\n",
       "    }\n",
       "</style>\n",
       "<table border=\"1\" class=\"dataframe\">\n",
       "  <thead>\n",
       "    <tr style=\"text-align: right;\">\n",
       "      <th></th>\n",
       "      <th>movieId</th>\n",
       "      <th>title</th>\n",
       "      <th>genres</th>\n",
       "    </tr>\n",
       "  </thead>\n",
       "  <tbody>\n",
       "    <tr>\n",
       "      <th>0</th>\n",
       "      <td>1</td>\n",
       "      <td>Toy Story (1995)</td>\n",
       "      <td>Adventure|Animation|Children|Comedy|Fantasy</td>\n",
       "    </tr>\n",
       "    <tr>\n",
       "      <th>1</th>\n",
       "      <td>2</td>\n",
       "      <td>Jumanji (1995)</td>\n",
       "      <td>Adventure|Children|Fantasy</td>\n",
       "    </tr>\n",
       "    <tr>\n",
       "      <th>2</th>\n",
       "      <td>3</td>\n",
       "      <td>Grumpier Old Men (1995)</td>\n",
       "      <td>Comedy|Romance</td>\n",
       "    </tr>\n",
       "    <tr>\n",
       "      <th>3</th>\n",
       "      <td>4</td>\n",
       "      <td>Waiting to Exhale (1995)</td>\n",
       "      <td>Comedy|Drama|Romance</td>\n",
       "    </tr>\n",
       "    <tr>\n",
       "      <th>4</th>\n",
       "      <td>5</td>\n",
       "      <td>Father of the Bride Part II (1995)</td>\n",
       "      <td>Comedy</td>\n",
       "    </tr>\n",
       "  </tbody>\n",
       "</table>\n",
       "</div>"
      ],
      "text/plain": [
       "   movieId                               title  \\\n",
       "0        1                    Toy Story (1995)   \n",
       "1        2                      Jumanji (1995)   \n",
       "2        3             Grumpier Old Men (1995)   \n",
       "3        4            Waiting to Exhale (1995)   \n",
       "4        5  Father of the Bride Part II (1995)   \n",
       "\n",
       "                                        genres  \n",
       "0  Adventure|Animation|Children|Comedy|Fantasy  \n",
       "1                   Adventure|Children|Fantasy  \n",
       "2                               Comedy|Romance  \n",
       "3                         Comedy|Drama|Romance  \n",
       "4                                       Comedy  "
      ]
     },
     "execution_count": 81,
     "metadata": {},
     "output_type": "execute_result"
    }
   ],
   "source": [
    "movies_10k.head()"
   ]
  },
  {
   "cell_type": "code",
   "execution_count": 82,
   "id": "c0792ce9",
   "metadata": {},
   "outputs": [
    {
     "data": {
      "text/plain": [
       "movieId    10000\n",
       "title      10000\n",
       "genres     10000\n",
       "dtype: int64"
      ]
     },
     "execution_count": 82,
     "metadata": {},
     "output_type": "execute_result"
    }
   ],
   "source": [
    "movies_10k.count()"
   ]
  },
  {
   "cell_type": "code",
   "execution_count": null,
   "id": "287c7bb5",
   "metadata": {},
   "outputs": [],
   "source": []
  },
  {
   "cell_type": "code",
   "execution_count": 83,
   "id": "05ce4f30",
   "metadata": {},
   "outputs": [],
   "source": [
    "# break up the big genre string into a string array\n",
    "movies_10k['genres'] = movies_10k['genres'].str.split('|')\n",
    "# convert genres to string value\n",
    "movies_10k['genres'] = movies_10k['genres'].fillna(\"\").astype('str')"
   ]
  },
  {
   "cell_type": "code",
   "execution_count": 84,
   "id": "ba4eea9b",
   "metadata": {},
   "outputs": [],
   "source": [
    "# Merge the two datasets on movieId\n",
    "merge_data = pd.merge(movies, movies_ratings, on='movieId')"
   ]
  },
  {
   "cell_type": "code",
   "execution_count": null,
   "id": "1ce950eb",
   "metadata": {},
   "outputs": [],
   "source": []
  },
  {
   "cell_type": "code",
   "execution_count": 85,
   "id": "d8a7def4",
   "metadata": {},
   "outputs": [
    {
     "data": {
      "text/html": [
       "<div>\n",
       "<style scoped>\n",
       "    .dataframe tbody tr th:only-of-type {\n",
       "        vertical-align: middle;\n",
       "    }\n",
       "\n",
       "    .dataframe tbody tr th {\n",
       "        vertical-align: top;\n",
       "    }\n",
       "\n",
       "    .dataframe thead th {\n",
       "        text-align: right;\n",
       "    }\n",
       "</style>\n",
       "<table border=\"1\" class=\"dataframe\">\n",
       "  <thead>\n",
       "    <tr style=\"text-align: right;\">\n",
       "      <th></th>\n",
       "      <th>movieId</th>\n",
       "      <th>title</th>\n",
       "      <th>genres</th>\n",
       "      <th>userId</th>\n",
       "      <th>rating</th>\n",
       "      <th>timestamp</th>\n",
       "    </tr>\n",
       "  </thead>\n",
       "  <tbody>\n",
       "    <tr>\n",
       "      <th>0</th>\n",
       "      <td>1</td>\n",
       "      <td>Toy Story (1995)</td>\n",
       "      <td>Adventure|Animation|Children|Comedy|Fantasy</td>\n",
       "      <td>2</td>\n",
       "      <td>3.5</td>\n",
       "      <td>1141415820</td>\n",
       "    </tr>\n",
       "    <tr>\n",
       "      <th>1</th>\n",
       "      <td>1</td>\n",
       "      <td>Toy Story (1995)</td>\n",
       "      <td>Adventure|Animation|Children|Comedy|Fantasy</td>\n",
       "      <td>3</td>\n",
       "      <td>4.0</td>\n",
       "      <td>1439472215</td>\n",
       "    </tr>\n",
       "    <tr>\n",
       "      <th>2</th>\n",
       "      <td>1</td>\n",
       "      <td>Toy Story (1995)</td>\n",
       "      <td>Adventure|Animation|Children|Comedy|Fantasy</td>\n",
       "      <td>4</td>\n",
       "      <td>3.0</td>\n",
       "      <td>1573944252</td>\n",
       "    </tr>\n",
       "    <tr>\n",
       "      <th>3</th>\n",
       "      <td>1</td>\n",
       "      <td>Toy Story (1995)</td>\n",
       "      <td>Adventure|Animation|Children|Comedy|Fantasy</td>\n",
       "      <td>5</td>\n",
       "      <td>4.0</td>\n",
       "      <td>858625949</td>\n",
       "    </tr>\n",
       "    <tr>\n",
       "      <th>4</th>\n",
       "      <td>1</td>\n",
       "      <td>Toy Story (1995)</td>\n",
       "      <td>Adventure|Animation|Children|Comedy|Fantasy</td>\n",
       "      <td>8</td>\n",
       "      <td>4.0</td>\n",
       "      <td>890492517</td>\n",
       "    </tr>\n",
       "  </tbody>\n",
       "</table>\n",
       "</div>"
      ],
      "text/plain": [
       "   movieId             title                                       genres  \\\n",
       "0        1  Toy Story (1995)  Adventure|Animation|Children|Comedy|Fantasy   \n",
       "1        1  Toy Story (1995)  Adventure|Animation|Children|Comedy|Fantasy   \n",
       "2        1  Toy Story (1995)  Adventure|Animation|Children|Comedy|Fantasy   \n",
       "3        1  Toy Story (1995)  Adventure|Animation|Children|Comedy|Fantasy   \n",
       "4        1  Toy Story (1995)  Adventure|Animation|Children|Comedy|Fantasy   \n",
       "\n",
       "   userId  rating   timestamp  \n",
       "0       2     3.5  1141415820  \n",
       "1       3     4.0  1439472215  \n",
       "2       4     3.0  1573944252  \n",
       "3       5     4.0   858625949  \n",
       "4       8     4.0   890492517  "
      ]
     },
     "execution_count": 85,
     "metadata": {},
     "output_type": "execute_result"
    }
   ],
   "source": [
    "merge_data.head()"
   ]
  },
  {
   "cell_type": "code",
   "execution_count": null,
   "id": "307c1629",
   "metadata": {},
   "outputs": [],
   "source": [
    "#input new record to the database to find similar books\n",
    "# new_movie = merge_data.append({'movieid': 90, 'title': 'The student life', 'genres': 'Adventure|fantasy'}, ignore_index=True)"
   ]
  },
  {
   "cell_type": "code",
   "execution_count": 86,
   "id": "d2b10011",
   "metadata": {},
   "outputs": [
    {
     "data": {
      "text/plain": [
       "movieId        int64\n",
       "title         object\n",
       "genres        object\n",
       "userId         int64\n",
       "rating       float64\n",
       "timestamp      int64\n",
       "dtype: object"
      ]
     },
     "execution_count": 86,
     "metadata": {},
     "output_type": "execute_result"
    }
   ],
   "source": [
    "merge_data.dtypes"
   ]
  },
  {
   "cell_type": "code",
   "execution_count": 87,
   "id": "55d1da21",
   "metadata": {},
   "outputs": [
    {
     "data": {
      "text/plain": [
       "movieId      25000095\n",
       "title        25000095\n",
       "genres       25000095\n",
       "userId       25000095\n",
       "rating       25000095\n",
       "timestamp    25000095\n",
       "dtype: int64"
      ]
     },
     "execution_count": 87,
     "metadata": {},
     "output_type": "execute_result"
    }
   ],
   "source": [
    "merge_data.count()"
   ]
  },
  {
   "cell_type": "code",
   "execution_count": 88,
   "id": "785ecb51",
   "metadata": {},
   "outputs": [],
   "source": [
    "merge_data_10k = merge_data[:10000]"
   ]
  },
  {
   "cell_type": "code",
   "execution_count": 89,
   "id": "d5d53622",
   "metadata": {},
   "outputs": [
    {
     "data": {
      "text/html": [
       "<div>\n",
       "<style scoped>\n",
       "    .dataframe tbody tr th:only-of-type {\n",
       "        vertical-align: middle;\n",
       "    }\n",
       "\n",
       "    .dataframe tbody tr th {\n",
       "        vertical-align: top;\n",
       "    }\n",
       "\n",
       "    .dataframe thead th {\n",
       "        text-align: right;\n",
       "    }\n",
       "</style>\n",
       "<table border=\"1\" class=\"dataframe\">\n",
       "  <thead>\n",
       "    <tr style=\"text-align: right;\">\n",
       "      <th></th>\n",
       "      <th>movieId</th>\n",
       "      <th>title</th>\n",
       "      <th>genres</th>\n",
       "      <th>userId</th>\n",
       "      <th>rating</th>\n",
       "      <th>timestamp</th>\n",
       "    </tr>\n",
       "  </thead>\n",
       "  <tbody>\n",
       "    <tr>\n",
       "      <th>0</th>\n",
       "      <td>1</td>\n",
       "      <td>Toy Story (1995)</td>\n",
       "      <td>Adventure|Animation|Children|Comedy|Fantasy</td>\n",
       "      <td>2</td>\n",
       "      <td>3.5</td>\n",
       "      <td>1141415820</td>\n",
       "    </tr>\n",
       "    <tr>\n",
       "      <th>1</th>\n",
       "      <td>1</td>\n",
       "      <td>Toy Story (1995)</td>\n",
       "      <td>Adventure|Animation|Children|Comedy|Fantasy</td>\n",
       "      <td>3</td>\n",
       "      <td>4.0</td>\n",
       "      <td>1439472215</td>\n",
       "    </tr>\n",
       "    <tr>\n",
       "      <th>2</th>\n",
       "      <td>1</td>\n",
       "      <td>Toy Story (1995)</td>\n",
       "      <td>Adventure|Animation|Children|Comedy|Fantasy</td>\n",
       "      <td>4</td>\n",
       "      <td>3.0</td>\n",
       "      <td>1573944252</td>\n",
       "    </tr>\n",
       "    <tr>\n",
       "      <th>3</th>\n",
       "      <td>1</td>\n",
       "      <td>Toy Story (1995)</td>\n",
       "      <td>Adventure|Animation|Children|Comedy|Fantasy</td>\n",
       "      <td>5</td>\n",
       "      <td>4.0</td>\n",
       "      <td>858625949</td>\n",
       "    </tr>\n",
       "    <tr>\n",
       "      <th>4</th>\n",
       "      <td>1</td>\n",
       "      <td>Toy Story (1995)</td>\n",
       "      <td>Adventure|Animation|Children|Comedy|Fantasy</td>\n",
       "      <td>8</td>\n",
       "      <td>4.0</td>\n",
       "      <td>890492517</td>\n",
       "    </tr>\n",
       "  </tbody>\n",
       "</table>\n",
       "</div>"
      ],
      "text/plain": [
       "   movieId             title                                       genres  \\\n",
       "0        1  Toy Story (1995)  Adventure|Animation|Children|Comedy|Fantasy   \n",
       "1        1  Toy Story (1995)  Adventure|Animation|Children|Comedy|Fantasy   \n",
       "2        1  Toy Story (1995)  Adventure|Animation|Children|Comedy|Fantasy   \n",
       "3        1  Toy Story (1995)  Adventure|Animation|Children|Comedy|Fantasy   \n",
       "4        1  Toy Story (1995)  Adventure|Animation|Children|Comedy|Fantasy   \n",
       "\n",
       "   userId  rating   timestamp  \n",
       "0       2     3.5  1141415820  \n",
       "1       3     4.0  1439472215  \n",
       "2       4     3.0  1573944252  \n",
       "3       5     4.0   858625949  \n",
       "4       8     4.0   890492517  "
      ]
     },
     "execution_count": 89,
     "metadata": {},
     "output_type": "execute_result"
    }
   ],
   "source": [
    "merge_data_10k.head()"
   ]
  },
  {
   "cell_type": "code",
   "execution_count": 90,
   "id": "e7460a05",
   "metadata": {},
   "outputs": [
    {
     "data": {
      "text/plain": [
       "movieId      10000\n",
       "title        10000\n",
       "genres       10000\n",
       "userId       10000\n",
       "rating       10000\n",
       "timestamp    10000\n",
       "dtype: int64"
      ]
     },
     "execution_count": 90,
     "metadata": {},
     "output_type": "execute_result"
    }
   ],
   "source": [
    "merge_data_10k.count()"
   ]
  },
  {
   "cell_type": "code",
   "execution_count": null,
   "id": "4a9a96fc",
   "metadata": {},
   "outputs": [],
   "source": []
  },
  {
   "cell_type": "code",
   "execution_count": 91,
   "id": "cca1a326",
   "metadata": {},
   "outputs": [],
   "source": [
    "tf = TfidfVectorizer(analyzer='word',ngram_range=(1, 2),min_df=0, stop_words='english')\n",
    "tfidf_matrix = tf.fit_transform(movies_10k['genres'])"
   ]
  },
  {
   "cell_type": "code",
   "execution_count": 92,
   "id": "78a1e10e",
   "metadata": {},
   "outputs": [],
   "source": [
    "cosine_sim = cosine_similarity(tfidf_matrix)\n"
   ]
  },
  {
   "cell_type": "code",
   "execution_count": 93,
   "id": "01eab04b",
   "metadata": {},
   "outputs": [],
   "source": [
    "# Define a function to get recommendations based on a movie title\n",
    "def recommend(title, cosine_sim=cosine_sim, movies_10k=movies_10k):\n",
    "    # Get the index of the movie that matches the title\n",
    "    idx = movies_10k[movies_10k['title'] == title].index[0]\n",
    "    \n",
    "    # Get the similarity scores for the movie\n",
    "    sim_scores = list(enumerate(cosine_sim[idx]))\n",
    "    \n",
    "    # Sort the scores in descending order\n",
    "    sim_scores = sorted(sim_scores, key=lambda x: x[1], reverse=True)\n",
    "    \n",
    "    # Get the top 10 similar movies\n",
    "    sim_scores = sim_scores[1:11]\n",
    "    \n",
    "    # Get the movieIds of the top 10 similar movies\n",
    "    movie_indices = [i[0] for i in sim_scores]\n",
    "    \n",
    "    # Return the titles of the top 10 similar movies\n",
    "    return movies_10k['title'].iloc[movie_indices]"
   ]
  },
  {
   "cell_type": "code",
   "execution_count": 94,
   "id": "c8e82953",
   "metadata": {},
   "outputs": [
    {
     "name": "stdout",
     "output_type": "stream",
     "text": [
      "2203                                          Antz (1998)\n",
      "3021                                   Toy Story 2 (1999)\n",
      "3653       Adventures of Rocky and Bullwinkle, The (2000)\n",
      "3912                     Emperor's New Groove, The (2000)\n",
      "4780                                Monsters, Inc. (2001)\n",
      "9949    DuckTales: The Movie - Treasure of the Lost La...\n",
      "8748    Twelve Tasks of Asterix, The (Les douze travau...\n",
      "4201                                         Shrek (2001)\n",
      "2051                             American Tail, An (1986)\n",
      "2264                                 Bug's Life, A (1998)\n",
      "Name: title, dtype: object\n"
     ]
    }
   ],
   "source": [
    "print(recommend(\"Toy Story (1995)\"))\n"
   ]
  },
  {
   "cell_type": "code",
   "execution_count": null,
   "id": "6d4309d5",
   "metadata": {},
   "outputs": [],
   "source": []
  },
  {
   "cell_type": "code",
   "execution_count": 95,
   "id": "c7088520",
   "metadata": {},
   "outputs": [
    {
     "name": "stdout",
     "output_type": "stream",
     "text": [
      "6                          Sabrina (1995)\n",
      "38                        Clueless (1995)\n",
      "63                   Two if by Sea (1996)\n",
      "67     French Twist (Gazon maudit) (1995)\n",
      "116                   If Lucy Fell (1996)\n",
      "120                      Boomerang (1992)\n",
      "127                 Pie in the Sky (1996)\n",
      "178                       Mallrats (1995)\n",
      "184                    Nine Months (1995)\n",
      "234                   Forget Paris (1995)\n",
      "Name: title, dtype: object\n"
     ]
    }
   ],
   "source": [
    "print(recommend(\"Grumpier Old Men (1995)\"))\n"
   ]
  },
  {
   "cell_type": "markdown",
   "id": "42f6b977",
   "metadata": {},
   "source": [
    "# New Experiment 3 (Testing Parameter Threshold)\n"
   ]
  },
  {
   "cell_type": "code",
   "execution_count": null,
   "id": "6b2c18b3",
   "metadata": {},
   "outputs": [],
   "source": [
    "# In this experiment we want to measure the value that seems the items to be deemed similar\n",
    "# check the thresold and see where the recommendation is becoming weaker in terms of similiraty,\n",
    "# this will help us evaluate the constant number k for an item that will be provided in other to have \n",
    "# the similar items.\n",
    "# Note: we aim to achieve this by checking similarity scores between items and see where the value tend\n",
    "# to change"
   ]
  },
  {
   "cell_type": "code",
   "execution_count": 96,
   "id": "ddd0aa0d",
   "metadata": {},
   "outputs": [
    {
     "data": {
      "text/plain": [
       "array([[1.        , 0.31525676, 0.05903859, 0.05174632, 0.15521692],\n",
       "       [0.31525676, 1.        , 0.        , 0.        , 0.        ],\n",
       "       [0.05903859, 0.        , 1.        , 0.35740851, 0.38036178],\n",
       "       [0.05174632, 0.        , 0.35740851, 1.        , 0.33338069],\n",
       "       [0.15521692, 0.        , 0.38036178, 0.33338069, 1.        ]])"
      ]
     },
     "execution_count": 96,
     "metadata": {},
     "output_type": "execute_result"
    }
   ],
   "source": [
    "cosine_similiraty = linear_kernel(tfidf_matrix, tfidf_matrix)\n",
    "cosine_similiraty[:5, :5]"
   ]
  },
  {
   "cell_type": "code",
   "execution_count": 97,
   "id": "e4f2493a",
   "metadata": {},
   "outputs": [],
   "source": [
    "# build an 1-dimensional array with movie titles\n",
    "titles = movies_10k['title']\n",
    "movie_id = movies_10k['movieId']\n",
    "indices = pd.Series(movies_10k.index, index=movies_10k['title'])\n",
    "\n",
    "# function that get movie recommendations based on the cosine similarity score of movie genres\n",
    "def genre_recommendations(title):\n",
    "    idx = indices[title]\n",
    "    sim_scores = list(enumerate(cosine_similiraty[idx]))\n",
    "    sim_scores = sorted(sim_scores, key=lambda x: x[1], reverse=True)\n",
    "#     print(sim_scores)\n",
    "    sim_scores = sim_scores[1:]\n",
    "    movie_indices = [i[0] for i in sim_scores]\n",
    "    cb_df=pd.DataFrame(sim_scores)\n",
    "    cb_df['title']=titles.iloc[movie_indices].values\n",
    "    cb_df['movie_id']=movie_id.iloc[movie_indices].values\n",
    "    cb_df=cb_df.rename(columns={0: \"movie_index\", 1: \"similarity_score\"})\n",
    "    genre_list=[]\n",
    "    for i in cb_df['movie_id'].values:\n",
    "        genre = movies_10k[movies_10k.movieId==i]['genres'].values\n",
    "        try:\n",
    "            genre_list.append(genre)\n",
    "        except:\n",
    "            genre_list.append('Unavailable') \n",
    "    cb_df['genres']=genre_list\n",
    "    return cb_df"
   ]
  },
  {
   "cell_type": "code",
   "execution_count": null,
   "id": "f8f38d3e",
   "metadata": {},
   "outputs": [],
   "source": []
  },
  {
   "cell_type": "code",
   "execution_count": 98,
   "id": "8b1fa9df",
   "metadata": {},
   "outputs": [
    {
     "data": {
      "text/html": [
       "<div>\n",
       "<style scoped>\n",
       "    .dataframe tbody tr th:only-of-type {\n",
       "        vertical-align: middle;\n",
       "    }\n",
       "\n",
       "    .dataframe tbody tr th {\n",
       "        vertical-align: top;\n",
       "    }\n",
       "\n",
       "    .dataframe thead th {\n",
       "        text-align: right;\n",
       "    }\n",
       "</style>\n",
       "<table border=\"1\" class=\"dataframe\">\n",
       "  <thead>\n",
       "    <tr style=\"text-align: right;\">\n",
       "      <th></th>\n",
       "      <th>movieId</th>\n",
       "      <th>title</th>\n",
       "      <th>genres</th>\n",
       "    </tr>\n",
       "  </thead>\n",
       "  <tbody>\n",
       "    <tr>\n",
       "      <th>0</th>\n",
       "      <td>1</td>\n",
       "      <td>Toy Story (1995)</td>\n",
       "      <td>['Adventure', 'Animation', 'Children', 'Comedy...</td>\n",
       "    </tr>\n",
       "  </tbody>\n",
       "</table>\n",
       "</div>"
      ],
      "text/plain": [
       "   movieId             title  \\\n",
       "0        1  Toy Story (1995)   \n",
       "\n",
       "                                              genres  \n",
       "0  ['Adventure', 'Animation', 'Children', 'Comedy...  "
      ]
     },
     "execution_count": 98,
     "metadata": {},
     "output_type": "execute_result"
    }
   ],
   "source": [
    "# out input movie for testing\n",
    "movies_10k[movies_10k.title=='Toy Story (1995)']"
   ]
  },
  {
   "cell_type": "code",
   "execution_count": null,
   "id": "57a2dfea",
   "metadata": {},
   "outputs": [],
   "source": []
  },
  {
   "cell_type": "markdown",
   "id": "758755fa",
   "metadata": {},
   "source": [
    "# Let us check the score for our movie item to find \n",
    "# threshold\n"
   ]
  },
  {
   "cell_type": "code",
   "execution_count": 99,
   "id": "bf2197c9",
   "metadata": {},
   "outputs": [
    {
     "data": {
      "text/html": [
       "<div>\n",
       "<style scoped>\n",
       "    .dataframe tbody tr th:only-of-type {\n",
       "        vertical-align: middle;\n",
       "    }\n",
       "\n",
       "    .dataframe tbody tr th {\n",
       "        vertical-align: top;\n",
       "    }\n",
       "\n",
       "    .dataframe thead th {\n",
       "        text-align: right;\n",
       "    }\n",
       "</style>\n",
       "<table border=\"1\" class=\"dataframe\">\n",
       "  <thead>\n",
       "    <tr style=\"text-align: right;\">\n",
       "      <th></th>\n",
       "      <th>movie_index</th>\n",
       "      <th>similarity_score</th>\n",
       "      <th>title</th>\n",
       "      <th>movie_id</th>\n",
       "      <th>genres</th>\n",
       "    </tr>\n",
       "  </thead>\n",
       "  <tbody>\n",
       "    <tr>\n",
       "      <th>0</th>\n",
       "      <td>2203</td>\n",
       "      <td>1.0</td>\n",
       "      <td>Antz (1998)</td>\n",
       "      <td>2294</td>\n",
       "      <td>[['Adventure', 'Animation', 'Children', 'Comed...</td>\n",
       "    </tr>\n",
       "    <tr>\n",
       "      <th>1</th>\n",
       "      <td>3021</td>\n",
       "      <td>1.0</td>\n",
       "      <td>Toy Story 2 (1999)</td>\n",
       "      <td>3114</td>\n",
       "      <td>[['Adventure', 'Animation', 'Children', 'Comed...</td>\n",
       "    </tr>\n",
       "    <tr>\n",
       "      <th>2</th>\n",
       "      <td>3653</td>\n",
       "      <td>1.0</td>\n",
       "      <td>Adventures of Rocky and Bullwinkle, The (2000)</td>\n",
       "      <td>3754</td>\n",
       "      <td>[['Adventure', 'Animation', 'Children', 'Comed...</td>\n",
       "    </tr>\n",
       "  </tbody>\n",
       "</table>\n",
       "</div>"
      ],
      "text/plain": [
       "   movie_index  similarity_score  \\\n",
       "0         2203               1.0   \n",
       "1         3021               1.0   \n",
       "2         3653               1.0   \n",
       "\n",
       "                                            title  movie_id  \\\n",
       "0                                     Antz (1998)      2294   \n",
       "1                              Toy Story 2 (1999)      3114   \n",
       "2  Adventures of Rocky and Bullwinkle, The (2000)      3754   \n",
       "\n",
       "                                              genres  \n",
       "0  [['Adventure', 'Animation', 'Children', 'Comed...  \n",
       "1  [['Adventure', 'Animation', 'Children', 'Comed...  \n",
       "2  [['Adventure', 'Animation', 'Children', 'Comed...  "
      ]
     },
     "execution_count": 99,
     "metadata": {},
     "output_type": "execute_result"
    }
   ],
   "source": [
    "# Find the top 3\n",
    "recommend3='Toy Story (1995)'\n",
    "genre_recommendations(recommend3).head(3)"
   ]
  },
  {
   "cell_type": "code",
   "execution_count": 100,
   "id": "37bbe749",
   "metadata": {},
   "outputs": [
    {
     "data": {
      "text/html": [
       "<div>\n",
       "<style scoped>\n",
       "    .dataframe tbody tr th:only-of-type {\n",
       "        vertical-align: middle;\n",
       "    }\n",
       "\n",
       "    .dataframe tbody tr th {\n",
       "        vertical-align: top;\n",
       "    }\n",
       "\n",
       "    .dataframe thead th {\n",
       "        text-align: right;\n",
       "    }\n",
       "</style>\n",
       "<table border=\"1\" class=\"dataframe\">\n",
       "  <thead>\n",
       "    <tr style=\"text-align: right;\">\n",
       "      <th></th>\n",
       "      <th>movie_index</th>\n",
       "      <th>similarity_score</th>\n",
       "      <th>title</th>\n",
       "      <th>movie_id</th>\n",
       "      <th>genres</th>\n",
       "    </tr>\n",
       "  </thead>\n",
       "  <tbody>\n",
       "    <tr>\n",
       "      <th>0</th>\n",
       "      <td>2203</td>\n",
       "      <td>1.0</td>\n",
       "      <td>Antz (1998)</td>\n",
       "      <td>2294</td>\n",
       "      <td>[['Adventure', 'Animation', 'Children', 'Comed...</td>\n",
       "    </tr>\n",
       "    <tr>\n",
       "      <th>1</th>\n",
       "      <td>3021</td>\n",
       "      <td>1.0</td>\n",
       "      <td>Toy Story 2 (1999)</td>\n",
       "      <td>3114</td>\n",
       "      <td>[['Adventure', 'Animation', 'Children', 'Comed...</td>\n",
       "    </tr>\n",
       "    <tr>\n",
       "      <th>2</th>\n",
       "      <td>3653</td>\n",
       "      <td>1.0</td>\n",
       "      <td>Adventures of Rocky and Bullwinkle, The (2000)</td>\n",
       "      <td>3754</td>\n",
       "      <td>[['Adventure', 'Animation', 'Children', 'Comed...</td>\n",
       "    </tr>\n",
       "    <tr>\n",
       "      <th>3</th>\n",
       "      <td>3912</td>\n",
       "      <td>1.0</td>\n",
       "      <td>Emperor's New Groove, The (2000)</td>\n",
       "      <td>4016</td>\n",
       "      <td>[['Adventure', 'Animation', 'Children', 'Comed...</td>\n",
       "    </tr>\n",
       "    <tr>\n",
       "      <th>4</th>\n",
       "      <td>4780</td>\n",
       "      <td>1.0</td>\n",
       "      <td>Monsters, Inc. (2001)</td>\n",
       "      <td>4886</td>\n",
       "      <td>[['Adventure', 'Animation', 'Children', 'Comed...</td>\n",
       "    </tr>\n",
       "    <tr>\n",
       "      <th>5</th>\n",
       "      <td>9949</td>\n",
       "      <td>1.0</td>\n",
       "      <td>DuckTales: The Movie - Treasure of the Lost La...</td>\n",
       "      <td>33463</td>\n",
       "      <td>[['Adventure', 'Animation', 'Children', 'Comed...</td>\n",
       "    </tr>\n",
       "  </tbody>\n",
       "</table>\n",
       "</div>"
      ],
      "text/plain": [
       "   movie_index  similarity_score  \\\n",
       "0         2203               1.0   \n",
       "1         3021               1.0   \n",
       "2         3653               1.0   \n",
       "3         3912               1.0   \n",
       "4         4780               1.0   \n",
       "5         9949               1.0   \n",
       "\n",
       "                                               title  movie_id  \\\n",
       "0                                        Antz (1998)      2294   \n",
       "1                                 Toy Story 2 (1999)      3114   \n",
       "2     Adventures of Rocky and Bullwinkle, The (2000)      3754   \n",
       "3                   Emperor's New Groove, The (2000)      4016   \n",
       "4                              Monsters, Inc. (2001)      4886   \n",
       "5  DuckTales: The Movie - Treasure of the Lost La...     33463   \n",
       "\n",
       "                                              genres  \n",
       "0  [['Adventure', 'Animation', 'Children', 'Comed...  \n",
       "1  [['Adventure', 'Animation', 'Children', 'Comed...  \n",
       "2  [['Adventure', 'Animation', 'Children', 'Comed...  \n",
       "3  [['Adventure', 'Animation', 'Children', 'Comed...  \n",
       "4  [['Adventure', 'Animation', 'Children', 'Comed...  \n",
       "5  [['Adventure', 'Animation', 'Children', 'Comed...  "
      ]
     },
     "execution_count": 100,
     "metadata": {},
     "output_type": "execute_result"
    }
   ],
   "source": [
    "# find top 6\n",
    "recommend6='Toy Story (1995)'\n",
    "genre_recommendations(recommend6).head(6)"
   ]
  },
  {
   "cell_type": "code",
   "execution_count": 101,
   "id": "db135146",
   "metadata": {},
   "outputs": [
    {
     "data": {
      "text/html": [
       "<div>\n",
       "<style scoped>\n",
       "    .dataframe tbody tr th:only-of-type {\n",
       "        vertical-align: middle;\n",
       "    }\n",
       "\n",
       "    .dataframe tbody tr th {\n",
       "        vertical-align: top;\n",
       "    }\n",
       "\n",
       "    .dataframe thead th {\n",
       "        text-align: right;\n",
       "    }\n",
       "</style>\n",
       "<table border=\"1\" class=\"dataframe\">\n",
       "  <thead>\n",
       "    <tr style=\"text-align: right;\">\n",
       "      <th></th>\n",
       "      <th>movie_index</th>\n",
       "      <th>similarity_score</th>\n",
       "      <th>title</th>\n",
       "      <th>movie_id</th>\n",
       "      <th>genres</th>\n",
       "    </tr>\n",
       "  </thead>\n",
       "  <tbody>\n",
       "    <tr>\n",
       "      <th>0</th>\n",
       "      <td>2203</td>\n",
       "      <td>1.000000</td>\n",
       "      <td>Antz (1998)</td>\n",
       "      <td>2294</td>\n",
       "      <td>[['Adventure', 'Animation', 'Children', 'Comed...</td>\n",
       "    </tr>\n",
       "    <tr>\n",
       "      <th>1</th>\n",
       "      <td>3021</td>\n",
       "      <td>1.000000</td>\n",
       "      <td>Toy Story 2 (1999)</td>\n",
       "      <td>3114</td>\n",
       "      <td>[['Adventure', 'Animation', 'Children', 'Comed...</td>\n",
       "    </tr>\n",
       "    <tr>\n",
       "      <th>2</th>\n",
       "      <td>3653</td>\n",
       "      <td>1.000000</td>\n",
       "      <td>Adventures of Rocky and Bullwinkle, The (2000)</td>\n",
       "      <td>3754</td>\n",
       "      <td>[['Adventure', 'Animation', 'Children', 'Comed...</td>\n",
       "    </tr>\n",
       "    <tr>\n",
       "      <th>3</th>\n",
       "      <td>3912</td>\n",
       "      <td>1.000000</td>\n",
       "      <td>Emperor's New Groove, The (2000)</td>\n",
       "      <td>4016</td>\n",
       "      <td>[['Adventure', 'Animation', 'Children', 'Comed...</td>\n",
       "    </tr>\n",
       "    <tr>\n",
       "      <th>4</th>\n",
       "      <td>4780</td>\n",
       "      <td>1.000000</td>\n",
       "      <td>Monsters, Inc. (2001)</td>\n",
       "      <td>4886</td>\n",
       "      <td>[['Adventure', 'Animation', 'Children', 'Comed...</td>\n",
       "    </tr>\n",
       "    <tr>\n",
       "      <th>5</th>\n",
       "      <td>9949</td>\n",
       "      <td>1.000000</td>\n",
       "      <td>DuckTales: The Movie - Treasure of the Lost La...</td>\n",
       "      <td>33463</td>\n",
       "      <td>[['Adventure', 'Animation', 'Children', 'Comed...</td>\n",
       "    </tr>\n",
       "    <tr>\n",
       "      <th>6</th>\n",
       "      <td>8748</td>\n",
       "      <td>0.931296</td>\n",
       "      <td>Twelve Tasks of Asterix, The (Les douze travau...</td>\n",
       "      <td>26340</td>\n",
       "      <td>[['Action', 'Adventure', 'Animation', 'Childre...</td>\n",
       "    </tr>\n",
       "    <tr>\n",
       "      <th>7</th>\n",
       "      <td>4201</td>\n",
       "      <td>0.895292</td>\n",
       "      <td>Shrek (2001)</td>\n",
       "      <td>4306</td>\n",
       "      <td>[['Adventure', 'Animation', 'Children', 'Comed...</td>\n",
       "    </tr>\n",
       "    <tr>\n",
       "      <th>8</th>\n",
       "      <td>2051</td>\n",
       "      <td>0.870671</td>\n",
       "      <td>American Tail, An (1986)</td>\n",
       "      <td>2141</td>\n",
       "      <td>[['Adventure', 'Animation', 'Children', 'Comed...</td>\n",
       "    </tr>\n",
       "  </tbody>\n",
       "</table>\n",
       "</div>"
      ],
      "text/plain": [
       "   movie_index  similarity_score  \\\n",
       "0         2203          1.000000   \n",
       "1         3021          1.000000   \n",
       "2         3653          1.000000   \n",
       "3         3912          1.000000   \n",
       "4         4780          1.000000   \n",
       "5         9949          1.000000   \n",
       "6         8748          0.931296   \n",
       "7         4201          0.895292   \n",
       "8         2051          0.870671   \n",
       "\n",
       "                                               title  movie_id  \\\n",
       "0                                        Antz (1998)      2294   \n",
       "1                                 Toy Story 2 (1999)      3114   \n",
       "2     Adventures of Rocky and Bullwinkle, The (2000)      3754   \n",
       "3                   Emperor's New Groove, The (2000)      4016   \n",
       "4                              Monsters, Inc. (2001)      4886   \n",
       "5  DuckTales: The Movie - Treasure of the Lost La...     33463   \n",
       "6  Twelve Tasks of Asterix, The (Les douze travau...     26340   \n",
       "7                                       Shrek (2001)      4306   \n",
       "8                           American Tail, An (1986)      2141   \n",
       "\n",
       "                                              genres  \n",
       "0  [['Adventure', 'Animation', 'Children', 'Comed...  \n",
       "1  [['Adventure', 'Animation', 'Children', 'Comed...  \n",
       "2  [['Adventure', 'Animation', 'Children', 'Comed...  \n",
       "3  [['Adventure', 'Animation', 'Children', 'Comed...  \n",
       "4  [['Adventure', 'Animation', 'Children', 'Comed...  \n",
       "5  [['Adventure', 'Animation', 'Children', 'Comed...  \n",
       "6  [['Action', 'Adventure', 'Animation', 'Childre...  \n",
       "7  [['Adventure', 'Animation', 'Children', 'Comed...  \n",
       "8  [['Adventure', 'Animation', 'Children', 'Comed...  "
      ]
     },
     "execution_count": 101,
     "metadata": {},
     "output_type": "execute_result"
    }
   ],
   "source": [
    "# find top 9\n",
    "recommend9='Toy Story (1995)'\n",
    "genre_recommendations(recommend9).head(9)"
   ]
  },
  {
   "cell_type": "code",
   "execution_count": 102,
   "id": "df23efa3",
   "metadata": {},
   "outputs": [
    {
     "data": {
      "text/html": [
       "<div>\n",
       "<style scoped>\n",
       "    .dataframe tbody tr th:only-of-type {\n",
       "        vertical-align: middle;\n",
       "    }\n",
       "\n",
       "    .dataframe tbody tr th {\n",
       "        vertical-align: top;\n",
       "    }\n",
       "\n",
       "    .dataframe thead th {\n",
       "        text-align: right;\n",
       "    }\n",
       "</style>\n",
       "<table border=\"1\" class=\"dataframe\">\n",
       "  <thead>\n",
       "    <tr style=\"text-align: right;\">\n",
       "      <th></th>\n",
       "      <th>movie_index</th>\n",
       "      <th>similarity_score</th>\n",
       "      <th>title</th>\n",
       "      <th>movie_id</th>\n",
       "      <th>genres</th>\n",
       "    </tr>\n",
       "  </thead>\n",
       "  <tbody>\n",
       "    <tr>\n",
       "      <th>0</th>\n",
       "      <td>2203</td>\n",
       "      <td>1.000000</td>\n",
       "      <td>Antz (1998)</td>\n",
       "      <td>2294</td>\n",
       "      <td>[['Adventure', 'Animation', 'Children', 'Comed...</td>\n",
       "    </tr>\n",
       "    <tr>\n",
       "      <th>1</th>\n",
       "      <td>3021</td>\n",
       "      <td>1.000000</td>\n",
       "      <td>Toy Story 2 (1999)</td>\n",
       "      <td>3114</td>\n",
       "      <td>[['Adventure', 'Animation', 'Children', 'Comed...</td>\n",
       "    </tr>\n",
       "    <tr>\n",
       "      <th>2</th>\n",
       "      <td>3653</td>\n",
       "      <td>1.000000</td>\n",
       "      <td>Adventures of Rocky and Bullwinkle, The (2000)</td>\n",
       "      <td>3754</td>\n",
       "      <td>[['Adventure', 'Animation', 'Children', 'Comed...</td>\n",
       "    </tr>\n",
       "    <tr>\n",
       "      <th>3</th>\n",
       "      <td>3912</td>\n",
       "      <td>1.000000</td>\n",
       "      <td>Emperor's New Groove, The (2000)</td>\n",
       "      <td>4016</td>\n",
       "      <td>[['Adventure', 'Animation', 'Children', 'Comed...</td>\n",
       "    </tr>\n",
       "    <tr>\n",
       "      <th>4</th>\n",
       "      <td>4780</td>\n",
       "      <td>1.000000</td>\n",
       "      <td>Monsters, Inc. (2001)</td>\n",
       "      <td>4886</td>\n",
       "      <td>[['Adventure', 'Animation', 'Children', 'Comed...</td>\n",
       "    </tr>\n",
       "    <tr>\n",
       "      <th>5</th>\n",
       "      <td>9949</td>\n",
       "      <td>1.000000</td>\n",
       "      <td>DuckTales: The Movie - Treasure of the Lost La...</td>\n",
       "      <td>33463</td>\n",
       "      <td>[['Adventure', 'Animation', 'Children', 'Comed...</td>\n",
       "    </tr>\n",
       "    <tr>\n",
       "      <th>6</th>\n",
       "      <td>8748</td>\n",
       "      <td>0.931296</td>\n",
       "      <td>Twelve Tasks of Asterix, The (Les douze travau...</td>\n",
       "      <td>26340</td>\n",
       "      <td>[['Action', 'Adventure', 'Animation', 'Childre...</td>\n",
       "    </tr>\n",
       "    <tr>\n",
       "      <th>7</th>\n",
       "      <td>4201</td>\n",
       "      <td>0.895292</td>\n",
       "      <td>Shrek (2001)</td>\n",
       "      <td>4306</td>\n",
       "      <td>[['Adventure', 'Animation', 'Children', 'Comed...</td>\n",
       "    </tr>\n",
       "    <tr>\n",
       "      <th>8</th>\n",
       "      <td>2051</td>\n",
       "      <td>0.870671</td>\n",
       "      <td>American Tail, An (1986)</td>\n",
       "      <td>2141</td>\n",
       "      <td>[['Adventure', 'Animation', 'Children', 'Comed...</td>\n",
       "    </tr>\n",
       "    <tr>\n",
       "      <th>9</th>\n",
       "      <td>2264</td>\n",
       "      <td>0.870671</td>\n",
       "      <td>Bug's Life, A (1998)</td>\n",
       "      <td>2355</td>\n",
       "      <td>[['Adventure', 'Animation', 'Children', 'Comed...</td>\n",
       "    </tr>\n",
       "    <tr>\n",
       "      <th>10</th>\n",
       "      <td>4884</td>\n",
       "      <td>0.870671</td>\n",
       "      <td>Jimmy Neutron: Boy Genius (2001)</td>\n",
       "      <td>4990</td>\n",
       "      <td>[['Adventure', 'Animation', 'Children', 'Comed...</td>\n",
       "    </tr>\n",
       "    <tr>\n",
       "      <th>11</th>\n",
       "      <td>5110</td>\n",
       "      <td>0.870671</td>\n",
       "      <td>Ice Age (2002)</td>\n",
       "      <td>5218</td>\n",
       "      <td>[['Adventure', 'Animation', 'Children', 'Comed...</td>\n",
       "    </tr>\n",
       "  </tbody>\n",
       "</table>\n",
       "</div>"
      ],
      "text/plain": [
       "    movie_index  similarity_score  \\\n",
       "0          2203          1.000000   \n",
       "1          3021          1.000000   \n",
       "2          3653          1.000000   \n",
       "3          3912          1.000000   \n",
       "4          4780          1.000000   \n",
       "5          9949          1.000000   \n",
       "6          8748          0.931296   \n",
       "7          4201          0.895292   \n",
       "8          2051          0.870671   \n",
       "9          2264          0.870671   \n",
       "10         4884          0.870671   \n",
       "11         5110          0.870671   \n",
       "\n",
       "                                                title  movie_id  \\\n",
       "0                                         Antz (1998)      2294   \n",
       "1                                  Toy Story 2 (1999)      3114   \n",
       "2      Adventures of Rocky and Bullwinkle, The (2000)      3754   \n",
       "3                    Emperor's New Groove, The (2000)      4016   \n",
       "4                               Monsters, Inc. (2001)      4886   \n",
       "5   DuckTales: The Movie - Treasure of the Lost La...     33463   \n",
       "6   Twelve Tasks of Asterix, The (Les douze travau...     26340   \n",
       "7                                        Shrek (2001)      4306   \n",
       "8                            American Tail, An (1986)      2141   \n",
       "9                                Bug's Life, A (1998)      2355   \n",
       "10                   Jimmy Neutron: Boy Genius (2001)      4990   \n",
       "11                                     Ice Age (2002)      5218   \n",
       "\n",
       "                                               genres  \n",
       "0   [['Adventure', 'Animation', 'Children', 'Comed...  \n",
       "1   [['Adventure', 'Animation', 'Children', 'Comed...  \n",
       "2   [['Adventure', 'Animation', 'Children', 'Comed...  \n",
       "3   [['Adventure', 'Animation', 'Children', 'Comed...  \n",
       "4   [['Adventure', 'Animation', 'Children', 'Comed...  \n",
       "5   [['Adventure', 'Animation', 'Children', 'Comed...  \n",
       "6   [['Action', 'Adventure', 'Animation', 'Childre...  \n",
       "7   [['Adventure', 'Animation', 'Children', 'Comed...  \n",
       "8   [['Adventure', 'Animation', 'Children', 'Comed...  \n",
       "9   [['Adventure', 'Animation', 'Children', 'Comed...  \n",
       "10  [['Adventure', 'Animation', 'Children', 'Comed...  \n",
       "11  [['Adventure', 'Animation', 'Children', 'Comed...  "
      ]
     },
     "execution_count": 102,
     "metadata": {},
     "output_type": "execute_result"
    }
   ],
   "source": [
    "# find top 12 \n",
    "recommend12='Toy Story (1995)'\n",
    "genre_recommendations(recommend12).head(12)"
   ]
  },
  {
   "cell_type": "code",
   "execution_count": null,
   "id": "ad644d79",
   "metadata": {},
   "outputs": [],
   "source": []
  },
  {
   "cell_type": "code",
   "execution_count": 103,
   "id": "be6758c9",
   "metadata": {},
   "outputs": [
    {
     "data": {
      "text/html": [
       "<div>\n",
       "<style scoped>\n",
       "    .dataframe tbody tr th:only-of-type {\n",
       "        vertical-align: middle;\n",
       "    }\n",
       "\n",
       "    .dataframe tbody tr th {\n",
       "        vertical-align: top;\n",
       "    }\n",
       "\n",
       "    .dataframe thead th {\n",
       "        text-align: right;\n",
       "    }\n",
       "</style>\n",
       "<table border=\"1\" class=\"dataframe\">\n",
       "  <thead>\n",
       "    <tr style=\"text-align: right;\">\n",
       "      <th></th>\n",
       "      <th>movieId</th>\n",
       "      <th>title</th>\n",
       "      <th>genres</th>\n",
       "    </tr>\n",
       "  </thead>\n",
       "  <tbody>\n",
       "    <tr>\n",
       "      <th>2</th>\n",
       "      <td>3</td>\n",
       "      <td>Grumpier Old Men (1995)</td>\n",
       "      <td>['Comedy', 'Romance']</td>\n",
       "    </tr>\n",
       "  </tbody>\n",
       "</table>\n",
       "</div>"
      ],
      "text/plain": [
       "   movieId                    title                 genres\n",
       "2        3  Grumpier Old Men (1995)  ['Comedy', 'Romance']"
      ]
     },
     "execution_count": 103,
     "metadata": {},
     "output_type": "execute_result"
    }
   ],
   "source": [
    "# out input movie for testing\n",
    "movies_10k[movies_10k.title=='Grumpier Old Men (1995)']"
   ]
  },
  {
   "cell_type": "markdown",
   "id": "5b4951ce",
   "metadata": {},
   "source": [
    "# Result Comment\n"
   ]
  },
  {
   "cell_type": "code",
   "execution_count": null,
   "id": "a8c4b261",
   "metadata": {},
   "outputs": [],
   "source": [
    "# We can see that after getting top 6 recommendation for our item, the quality of the similarity start to \n",
    "# become weaker. Hence we can deduce that obtaining recommendation for the item using top 6 is deem to\n",
    "# to provide the users similar items compared to the input item."
   ]
  },
  {
   "cell_type": "code",
   "execution_count": null,
   "id": "625e76d9",
   "metadata": {},
   "outputs": [],
   "source": []
  },
  {
   "cell_type": "markdown",
   "id": "e07ca480",
   "metadata": {},
   "source": [
    "# Previous Experiment Start From Here\n"
   ]
  },
  {
   "cell_type": "code",
   "execution_count": null,
   "id": "881de633",
   "metadata": {},
   "outputs": [],
   "source": [
    "\n",
    "# Extract the book titles and author\n",
    "titles = book_rating['book_title']\n",
    "authors = book_rating['book_author']"
   ]
  },
  {
   "cell_type": "code",
   "execution_count": null,
   "id": "2b160c1b",
   "metadata": {},
   "outputs": [],
   "source": []
  },
  {
   "cell_type": "markdown",
   "id": "8ec371a7",
   "metadata": {},
   "source": [
    "# CONTENT BASED RECOMMENDATION SYSTEM"
   ]
  },
  {
   "cell_type": "code",
   "execution_count": null,
   "id": "01156529",
   "metadata": {},
   "outputs": [],
   "source": [
    "#BUILDING THE CONTENT FILTERING SYSTEM USING BOOK TITLE AND AUTHOR NAME"
   ]
  },
  {
   "cell_type": "code",
   "execution_count": null,
   "id": "ab19b1a8",
   "metadata": {},
   "outputs": [],
   "source": [
    "# we create a mapping from book title to author\n",
    "title_to_author = {}\n",
    "for title, author in zip(titles, authors):\n",
    "    title_to_author[title] = author"
   ]
  },
  {
   "cell_type": "code",
   "execution_count": null,
   "id": "de565958",
   "metadata": {},
   "outputs": [],
   "source": [
    "\n",
    "def recommendation(title):\n",
    "    author = title_to_author[title]\n",
    "    recommendations = []\n",
    "    for book, book_author in title_to_author.items():\n",
    "        if book_author == author and book != title:\n",
    "            recommendations.append(book)\n",
    "    return recommendations[:5]"
   ]
  },
  {
   "cell_type": "code",
   "execution_count": null,
   "id": "df0d1afa",
   "metadata": {},
   "outputs": [],
   "source": [
    "# for content based system qualitative aspect relies on the quality of the recommendation \n",
    "#and we evaluate it by eyeballing the generated recommendation. The recommendation will be generated\n",
    "# based on author as defined by the function above. \n",
    " \n"
   ]
  },
  {
   "cell_type": "code",
   "execution_count": null,
   "id": "292e3a12",
   "metadata": {},
   "outputs": [],
   "source": [
    "# Test the recommendation function\n",
    "print(recommendation(\"The Kitchen God's Wife\"))\n"
   ]
  },
  {
   "cell_type": "code",
   "execution_count": null,
   "id": "9366dbfe",
   "metadata": {},
   "outputs": [],
   "source": [
    "#now let us have a look of the book author 'The Kitchen God's wife'\n",
    "book_rating[book_rating.book_title==\"The Kitchen God's Wife\"]\n"
   ]
  },
  {
   "cell_type": "code",
   "execution_count": null,
   "id": "9c1ed28d",
   "metadata": {},
   "outputs": [],
   "source": [
    "# we can see the book author name was \"Amy Tan\" as the book was recommended by many users\n",
    "#we need to restrict a book to a single isbn\n",
    "book_unique = book_rating.groupby('book_title').isbn.nunique().sort_values(ascending = False)[:5]\n",
    "book_unique.head()"
   ]
  },
  {
   "cell_type": "code",
   "execution_count": null,
   "id": "4a1fd5dd",
   "metadata": {},
   "outputs": [],
   "source": [
    "# now let us have a number of book counts published by 'Amy Tan from our dataset'\n",
    "Amy_Tan_Books = book_rating[book_rating.book_author==\"Amy Tan\"]\n",
    "Amy_Tan_Books.head()\n"
   ]
  },
  {
   "cell_type": "code",
   "execution_count": null,
   "id": "ff4e5acf",
   "metadata": {},
   "outputs": [],
   "source": [
    "Amy_Tan_Books.count"
   ]
  },
  {
   "cell_type": "code",
   "execution_count": null,
   "id": "e7b7b1e7",
   "metadata": {},
   "outputs": [],
   "source": [
    "unique_Amy_Tan_Books = Amy_Tan_Books.isbn.nunique()\n",
    "print(f'Length of books published before restricting: {len(Amy_Tan_Books)}')\n",
    "print(f'number of unique published books: {unique_Amy_Tan_Books}')\n",
    "\n"
   ]
  },
  {
   "cell_type": "code",
   "execution_count": null,
   "id": "a70c8ab4",
   "metadata": {},
   "outputs": [],
   "source": [
    "# now let us write a function to get the length of the recommended books instead of the book names\n",
    "def length_recommendation(title):\n",
    "    author = title_to_author[title]\n",
    "    books_recommendations = []\n",
    "#     length = len(books_recommendations)\n",
    "    for book, book_author in title_to_author.items():\n",
    "        if book_author == author and book != title:\n",
    "            books_recommendations.append(book)\n",
    "            length = len(books_recommendations)\n",
    "    return length"
   ]
  },
  {
   "cell_type": "code",
   "execution_count": null,
   "id": "65a15a6d",
   "metadata": {},
   "outputs": [],
   "source": [
    "\n",
    "print(length_recommendation(\"The Kitchen God's Wife\"))\n"
   ]
  },
  {
   "cell_type": "code",
   "execution_count": null,
   "id": "6a1d0fbc",
   "metadata": {},
   "outputs": [],
   "source": [
    "# the number of unique books published by Amy Tam from our dataset are 41 but the content based \n",
    "# recommended system funtion recommended only 27 books based on the author\n",
    "# from eyeballing we can say our function is having 66% accuracy rate"
   ]
  },
  {
   "cell_type": "code",
   "execution_count": null,
   "id": "96aeffb3",
   "metadata": {},
   "outputs": [],
   "source": [
    "# alternatively let us get all the users that liked the book and the other books they liked\n",
    "# from their we can also measure the quality of the recommendation\n",
    "rated_users = Amy_Tan_Books[['user_id', 'isbn', 'book_title', 'book_rating']]\n",
    "unique_rated_users = rated_users.nunique()"
   ]
  },
  {
   "cell_type": "code",
   "execution_count": null,
   "id": "5f813615",
   "metadata": {},
   "outputs": [],
   "source": [
    "rated_users.head()"
   ]
  },
  {
   "cell_type": "code",
   "execution_count": null,
   "id": "5576ac83",
   "metadata": {},
   "outputs": [],
   "source": [
    "rated_users.count()\n"
   ]
  },
  {
   "cell_type": "code",
   "execution_count": null,
   "id": "39df26ad",
   "metadata": {},
   "outputs": [],
   "source": [
    "# 1. here we want to get all the users that rated the book provided as input\n",
    "# 2. take all the books the users recommended\n",
    "# 3. Put them in one bag\n",
    "# 4. Check if the books previously recommended are inside the bag\n",
    "\n",
    "# we create a function to return a bag of books rated by users who also rated the input book\n",
    "def similar_books(title):\n",
    "    # get the users who rated the input book\n",
    "    users = rated_users[rated_users['book_title'] == title]['user_id']\n",
    "    # get all the books that were rated by the users who also rated the input book from the\n",
    "    # general dataset\n",
    "    similar_books = book_rating[book_rating['user_id'].isin(users)]['book_title']\n",
    "    # put all the books in a bag\n",
    "    bag = set(similar_books)\n",
    "    return bag\n",
    "\n"
   ]
  },
  {
   "cell_type": "code",
   "execution_count": null,
   "id": "e0fba090",
   "metadata": {},
   "outputs": [],
   "source": [
    "# we can see the books liked by the users who rated the input  from the output funtion\n",
    "similar_books_bag = similar_books(\"The Kitchen God's Wife\")\n",
    "print(similar_books_bag)"
   ]
  },
  {
   "cell_type": "code",
   "execution_count": null,
   "id": "bd9b5aa5",
   "metadata": {},
   "outputs": [],
   "source": [
    "# let us get the length instead of the book titles so as to have concise number of counts\n",
    "def length_similar_books(title):\n",
    "    # get the users who rated the input book\n",
    "    users = rated_users[rated_users['book_title'] == title]['user_id']\n",
    "    # get all the books that were rated by the users who also rated the input book from the general \n",
    "    # book\n",
    "    similar_books = book_rating[book_rating['user_id'].isin(users)]['book_title']\n",
    "    # put all the books in a bag\n",
    "    bag = set(similar_books)\n",
    "    length = len(bag)\n",
    "    return length"
   ]
  },
  {
   "cell_type": "code",
   "execution_count": null,
   "id": "0e6f94de",
   "metadata": {},
   "outputs": [],
   "source": [
    "# the number of books liked by the users who rated the input can be seen from the function output\n",
    "length_similar_books_bag = length_similar_books(\"The Kitchen God's Wife\")\n",
    "print(length_similar_books_bag)"
   ]
  },
  {
   "cell_type": "code",
   "execution_count": null,
   "id": "f0e3d6fa",
   "metadata": {},
   "outputs": [],
   "source": [
    "# now let's check if the books recommended are inside the bags\n",
    "common = set(recommendation(\"The Kitchen God's Wife\")).intersection(similar_books(\"The Kitchen God's Wife\"))\n",
    "print(common)"
   ]
  },
  {
   "cell_type": "markdown",
   "id": "813f0b7f",
   "metadata": {},
   "source": [
    "# COLLABORATIVE BASED RECOMMENDATION"
   ]
  },
  {
   "cell_type": "code",
   "execution_count": null,
   "id": "ced6dd15",
   "metadata": {},
   "outputs": [],
   "source": [
    "# building COlABORATIVE BASED recommendation system\n",
    "item_rating = users_ratings[['user_id', 'isbn', 'book_rating']]\n",
    "item_rating.head()"
   ]
  },
  {
   "cell_type": "code",
   "execution_count": null,
   "id": "5d9491c5",
   "metadata": {},
   "outputs": [],
   "source": [
    "from surprise import Reader, Dataset"
   ]
  },
  {
   "cell_type": "code",
   "execution_count": null,
   "id": "a02e50ee",
   "metadata": {},
   "outputs": [],
   "source": [
    "item_rating.head()"
   ]
  },
  {
   "cell_type": "code",
   "execution_count": null,
   "id": "63bca77f",
   "metadata": {},
   "outputs": [],
   "source": [
    "# creating a reader object\n",
    "reader = Reader(rating_scale=(1, 10))\n",
    "\n",
    "\n",
    "data = Dataset.load_from_df(item_rating, reader)"
   ]
  },
  {
   "cell_type": "code",
   "execution_count": null,
   "id": "53a01df3",
   "metadata": {},
   "outputs": [],
   "source": [
    "# Load the models and 'evaluation' method\n",
    "from surprise import SVD, NMF, model_selection, accuracy"
   ]
  },
  {
   "cell_type": "code",
   "execution_count": null,
   "id": "95d3b0cc",
   "metadata": {},
   "outputs": [],
   "source": [
    "# Load SVD algorithm\n",
    "model = SVD()\n",
    "\n",
    "# Train on books dataset\n",
    "%time model_selection.cross_validate(model, data, measures=['RMSE'], cv=5, verbose=True)"
   ]
  },
  {
   "cell_type": "code",
   "execution_count": null,
   "id": "a959105a",
   "metadata": {},
   "outputs": [],
   "source": [
    "trainset, testset = model_selection.train_test_split(data, test_size=0.2)"
   ]
  },
  {
   "cell_type": "code",
   "execution_count": null,
   "id": "dce80dcc",
   "metadata": {},
   "outputs": [],
   "source": [
    "# Instantiate the SVD model.\n",
    "model = SVD()\n",
    "\n",
    "# Train the algorithm on the training set, and predict ratings for the test set\n",
    "model.fit(trainset)\n",
    "predictions = model.test(testset)\n",
    "\n",
    "# Then compute RMSE\n",
    "accuracy.rmse(predictions)"
   ]
  },
  {
   "cell_type": "code",
   "execution_count": null,
   "id": "69734d31",
   "metadata": {},
   "outputs": [],
   "source": [
    "# we have seen the model accuracy with our dataset now let's have an experiment"
   ]
  },
  {
   "cell_type": "code",
   "execution_count": null,
   "id": "85c16a6b",
   "metadata": {},
   "outputs": [],
   "source": [
    "# let's check the rating prediction user gave for the Kitchen God's Wife as our input book\n",
    "user_id = 278390\n",
    "# input book isbn number\n",
    "item_id = '080410753X'\n",
    "pred = model.predict(user_id, item_id)\n",
    "print(f'Predicted rating for user {user_id} and item {item_id} is {pred.est}')"
   ]
  },
  {
   "cell_type": "code",
   "execution_count": null,
   "id": "87484a02",
   "metadata": {},
   "outputs": [],
   "source": [
    "# we can say the model  prediction is nearly accurate since the user rating for the book was 9 from our dataset\n",
    "# as opposed to 8.15"
   ]
  },
  {
   "cell_type": "code",
   "execution_count": null,
   "id": "0be6e9ad",
   "metadata": {},
   "outputs": [],
   "source": [
    "\n",
    "# let's define a function to recommend books to a given user based on user similarity\n",
    "def recommend_books(user_id):\n",
    "    # Get the books that the similar users have rated highly\n",
    "    recommended_books = []\n",
    "    user_inner_id = model.trainset.to_inner_uid(user_id)\n",
    "    user_ratings = model.trainset.ur[user_inner_id]\n",
    "    for isbn, _ in user_ratings:\n",
    "        try:\n",
    "            book_inner_id = model.trainset.to_inner_iid(book_id)\n",
    "            recommended_books.append(model.trainset.to_raw_iid(book_inner_id))\n",
    "        except:\n",
    "            pass\n",
    "    return recommended_books"
   ]
  },
  {
   "cell_type": "code",
   "execution_count": null,
   "id": "ac510508",
   "metadata": {},
   "outputs": [],
   "source": [
    "# Recommend books for a specific user if similarities are found\n",
    "user_id = 277378\n",
    "print(recommend_books(user_id))"
   ]
  }
 ],
 "metadata": {
  "kernelspec": {
   "display_name": "Python 3 (ipykernel)",
   "language": "python",
   "name": "python3"
  },
  "language_info": {
   "codemirror_mode": {
    "name": "ipython",
    "version": 3
   },
   "file_extension": ".py",
   "mimetype": "text/x-python",
   "name": "python",
   "nbconvert_exporter": "python",
   "pygments_lexer": "ipython3",
   "version": "3.9.15"
  }
 },
 "nbformat": 4,
 "nbformat_minor": 5
}
